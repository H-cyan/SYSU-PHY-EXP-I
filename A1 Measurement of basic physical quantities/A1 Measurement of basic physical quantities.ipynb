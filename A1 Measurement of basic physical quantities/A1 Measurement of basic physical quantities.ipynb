{
 "metadata": {
  "language_info": {
   "codemirror_mode": {
    "name": "ipython",
    "version": 3
   },
   "file_extension": ".py",
   "mimetype": "text/x-python",
   "name": "python",
   "nbconvert_exporter": "python",
   "pygments_lexer": "ipython3",
   "version": "3.8.5"
  },
  "orig_nbformat": 2,
  "kernelspec": {
   "name": "python385jvsc74a57bd0b3ba2566441a7c06988d0923437866b63cedc61552a5af99d1f4fb67d367b25f",
   "display_name": "Python 3.8.5 64-bit ('base': conda)"
  }
 },
 "nbformat": 4,
 "nbformat_minor": 2,
 "cells": [
  {
   "source": [
    "# A1 Measurement of basic physical quantities\n",
    "by H cyan\n",
    "\n",
    "huangzw29@mail2.sysu.edu.cn\n",
    "\n",
    "2021.5.13"
   ],
   "cell_type": "markdown",
   "metadata": {}
  },
  {
   "source": [
    "Attention: If you are dealing with your experimental report, do not just run this code and copy the values. Write down the formulas on your own first, then you can use this code to do the calculation."
   ],
   "cell_type": "markdown",
   "metadata": {}
  },
  {
   "cell_type": "code",
   "execution_count": 1,
   "metadata": {},
   "outputs": [],
   "source": [
    "import pandas as pd\n",
    "import numpy as np\n",
    "import sympy as sp"
   ]
  },
  {
   "source": [
    "## Exp1"
   ],
   "cell_type": "markdown",
   "metadata": {}
  },
  {
   "source": [
    "### 1-1 Thickness of the plate"
   ],
   "cell_type": "markdown",
   "metadata": {}
  },
  {
   "source": [
    "df_plate = pd.read_csv(r'A1 data\\1-1 plate.csv', index_col='measure')\n",
    "\n",
    "df_plate_par = pd.DataFrame(df_plate.describe().loc[['mean', 'std']])\n",
    "df_plate_par.loc['MAPE'] = df_plate['d'].std()/df_plate['d'].mean()\n",
    "\n",
    "print(df_plate)\n",
    "print(df_plate.describe())\n",
    "print(df_plate_par)\n",
    "\n",
    "print(\"MAPE = {:.4%}\".format(df_plate['d'].std()/df_plate['d'].mean()))"
   ],
   "cell_type": "code",
   "metadata": {},
   "execution_count": 21,
   "outputs": [
    {
     "output_type": "stream",
     "name": "stdout",
     "text": [
      "             d\nmeasure       \n1        3.622\n2        3.628\n3        3.627\n4        3.623\n5        3.625\n             d\ncount  5.00000\nmean   3.62500\nstd    0.00255\nmin    3.62200\n25%    3.62300\n50%    3.62500\n75%    3.62700\nmax    3.62800\n             d\nmean  3.625000\nstd   0.002550\nMAPE  0.000703\nMAPE = 0.0703%\n"
     ]
    }
   ]
  },
  {
   "source": [
    "### 1-2 Diameter of the wire"
   ],
   "cell_type": "markdown",
   "metadata": {}
  },
  {
   "cell_type": "code",
   "execution_count": 22,
   "metadata": {},
   "outputs": [
    {
     "output_type": "stream",
     "name": "stdout",
     "text": [
      "              D\ncount  10.00000\nmean    1.05990\nstd     0.07427\nmin     1.00800\n25%     1.02500\n50%     1.03000\n75%     1.03400\nmax     1.20000\n"
     ]
    }
   ],
   "source": [
    "df_wire = pd.read_csv(r'A1 data\\1-2 wire.csv', index_col='measure')\n",
    "print(df_wire.describe())"
   ]
  },
  {
   "source": [
    "### 1-3 Unevenness of the steel rule"
   ],
   "cell_type": "markdown",
   "metadata": {}
  },
  {
   "cell_type": "code",
   "execution_count": 4,
   "metadata": {},
   "outputs": [
    {
     "output_type": "stream",
     "name": "stdout",
     "text": [
      "               a          b\ncount  11.000000  11.000000\nmean   45.000000  14.999091\nstd     3.316625   3.317863\nmin    40.000000   9.997000\n25%    42.500000  12.501000\n50%    45.000000  15.002000\n75%    47.500000  17.502500\nmax    50.000000  20.000000\nidx\n1       NaN\n2    -1.000\n3    -0.995\n4    -1.005\n5    -1.008\n6    -0.990\n7    -1.005\n8    -0.995\n9    -1.002\n10   -1.005\n11   -0.998\nName: b, dtype: float64\n-1.0003 0.005735852159879902\nUnevenness = -0.5734%\n"
     ]
    }
   ],
   "source": [
    "df_rule = pd.read_csv(r'A1 data\\1-3 rule.csv', index_col='idx')\n",
    "print(df_rule.describe())\n",
    "l = df_rule['b'].diff()\n",
    "\n",
    "print(l)\n",
    "print(l.mean(), l.std())\n",
    "print('Unevenness = {:.4%}'.format(l.std()/l.mean()))"
   ]
  },
  {
   "source": [
    "## Exp2 Density of the metal cup"
   ],
   "cell_type": "markdown",
   "metadata": {}
  },
  {
   "source": [
    "### 2-1 direct"
   ],
   "cell_type": "markdown",
   "metadata": {}
  },
  {
   "cell_type": "code",
   "execution_count": 24,
   "metadata": {},
   "outputs": [
    {
     "output_type": "stream",
     "name": "stdout",
     "text": [
      "             D      d      H      h\n",
      "measure                            \n",
      "1        3.316  2.384  4.390  4.010\n",
      "2        3.312  2.386  4.386  3.982\n",
      "3        3.322  2.390  4.384  4.020\n",
      "4        3.318  2.388  4.384  4.002\n",
      "5        3.310  2.384  4.388  4.018\n",
      "              D         d         H         h\n",
      "count  5.000000  5.000000  5.000000  5.000000\n",
      "mean   3.315600  2.386400  4.386400  4.006400\n",
      "std    0.004775  0.002608  0.002608  0.015388\n",
      "min    3.310000  2.384000  4.384000  3.982000\n",
      "25%    3.312000  2.384000  4.384000  4.002000\n",
      "50%    3.316000  2.386000  4.386000  4.010000\n",
      "75%    3.318000  2.388000  4.388000  4.018000\n",
      "max    3.322000  2.390000  4.390000  4.020000\n",
      "             D         d         H         h\n",
      "mean  3.315600  2.386400  4.386400  4.006400\n",
      "std   0.004775  0.002608  0.002608  0.015388\n"
     ]
    }
   ],
   "source": [
    "df_rule = pd.read_csv(r'A1 data\\2-1 cup.csv', index_col='measure')\n",
    "df_rule_par = pd.DataFrame(df_rule.describe().loc[['mean', 'std']])\n",
    "\n",
    "print(df_rule)\n",
    "print(df_rule.describe())\n",
    "print(df_rule_par)"
   ]
  },
  {
   "cell_type": "code",
   "execution_count": 25,
   "metadata": {},
   "outputs": [],
   "source": [
    "D, d, H, h = tuple(df_rule_par.loc['mean'])\n",
    "SD, Sd, SH, Sh = tuple(df_rule_par.loc['std'])\n",
    "\n",
    "M = 54.45 # mass of the cup"
   ]
  },
  {
   "cell_type": "code",
   "execution_count": 26,
   "metadata": {},
   "outputs": [
    {
     "output_type": "stream",
     "name": "stdout",
     "text": [
      "19.952663339437986 2.7289589902705047\n"
     ]
    }
   ],
   "source": [
    "V = (np.pi/4) * ( (H*D**2) - (h*d**2) )\n",
    "Density = M/V\n",
    "print(V, Density)"
   ]
  },
  {
   "cell_type": "code",
   "execution_count": 27,
   "metadata": {},
   "outputs": [
    {
     "output_type": "stream",
     "name": "stdout",
     "text": [
      "-3.12454206175862 2.05406205138530 -1.18089226472357 0.611747913267009 0.0501186224108449\n"
     ]
    }
   ],
   "source": [
    "Ds, ds, Hs, hs, Ms = sp.symbols('Ds ds Hs hs Ms')\n",
    "\n",
    "Rho = Ms / ( (np.pi/4) * ((Hs*Ds**2) - (hs*ds**2)) )\n",
    "subs = {'Ds':D, 'ds':d, 'Hs':H, 'hs':h, 'Ms':M}\n",
    "Rho_D, Rho_d, Rho_H, Rho_h, Rho_M = tuple(sp.diff(Rho, i).evalf(subs = subs) for i in ['Ds', 'ds', 'Hs', 'hs', 'Ms'])\n",
    "\n",
    "print(Rho_D, Rho_d, Rho_H, Rho_h, Rho_M)"
   ]
  },
  {
   "cell_type": "code",
   "execution_count": 31,
   "metadata": {},
   "outputs": [
    {
     "output_type": "stream",
     "name": "stdout",
     "text": [
      "Sa = 0.0186917889426637\nSb = 0.00459180036800666\nS = 0.0192475350239118\n"
     ]
    }
   ],
   "source": [
    "Sa = ( (SD*Rho_D)**2 + (Sd*Rho_d)**2 + (SH*Rho_H)**2 + (Sh*Rho_h)**2 )**(1/2)\n",
    "\n",
    "sb_l = 0.002/(3**(1/2)) # type B uncertainty caused by measurement of length\n",
    "sb_m = 0.01/(3**(1/2)) # type B uncertainty caused by measurement of mass\n",
    "Sb = ( (sb_l*Rho_D)**2 + (sb_l*Rho_d)**2 + (sb_l*Rho_H)**2 + (sb_l*Rho_h)**2 + (sb_m*Rho_M)**2 )**(1/2)\n",
    "\n",
    "S = ( (Sa)**2 + (Sb)**2 )**(1/2)\n",
    "print('Sa = {}\\nSb = {}\\nS = {}'.format(Sa, Sb, S))"
   ]
  },
  {
   "cell_type": "code",
   "execution_count": 32,
   "metadata": {},
   "outputs": [
    {
     "output_type": "stream",
     "name": "stdout",
     "text": [
      "Va = 8.37330864738893\nVb = 2.17068120244989\nV = 9.28400526972723\n"
     ]
    }
   ],
   "source": [
    "va = 5-1\n",
    "vb = 1\n",
    "Va = (Sa**4) / ( (SD*Rho_D)**4/va + (Sd*Rho_d)**4/va + (SH*Rho_H)**4/va + (Sh*Rho_h)**4/va )\n",
    "Vb = (Sb**4) / ( (sb_l*Rho_D)**4/vb + (sb_l*Rho_d)**4/vb + (sb_l*Rho_H)**4/vb + (sb_l*Rho_h)**4/vb + (sb_m*Rho_M)**4/vb )\n",
    "V = (S**4) / ( (Sa)**4/Va + (Sb)**4/Vb )\n",
    "\n",
    "print('Va = {}\\nVb = {}\\nV = {}'.format(Va, Vb, V))"
   ]
  },
  {
   "source": [
    "### 2-2 Drainage method"
   ],
   "cell_type": "markdown",
   "metadata": {}
  },
  {
   "cell_type": "code",
   "execution_count": 37,
   "metadata": {},
   "outputs": [
    {
     "output_type": "stream",
     "name": "stdout",
     "text": [
      "2.763585503816793\n-0.0898859289474195 0.140640483654799\n0.000963660138316343\nS = 0.000963660138316343\n"
     ]
    }
   ],
   "source": [
    "m1 = 54.45\n",
    "m2 = 34.80\n",
    "rho_water = 0.997327 # This value depends on the temporature of the water.\n",
    "Density2 = m1*rho_water/(m1-m2)\n",
    "print(Density2)\n",
    "\n",
    "m1s, m2s = sp.symbols('m1s m2s')\n",
    "Rho2 = m1s*rho_water/(m1s-m2s)\n",
    "subs2 = {'m1s':m1, 'm2s':m2}\n",
    "Rho2_m1, Rho2_m2 = tuple(sp.diff(Rho2, i).evalf(subs = subs2) for i in ['m1s', 'm2s'])\n",
    "print(Rho2_m1, Rho2_m2)\n",
    "\n",
    "sb_m = 0.01/(3**(1/2))\n",
    "Sb_2 = ( (Rho2_m1*sb_m)**2+(Rho2_m2*sb_m)**2 )**(1/2)\n",
    "# Sa=0\n",
    "\n",
    "print('S = {}'.format(Sb_2))"
   ]
  }
 ]
}