{
 "cells": [
  {
   "cell_type": "markdown",
   "source": [
    "# B9 Michelson interference II\r\n",
    "Jeg Vet\r\n",
    "\r\n",
    "huangzw29@mail2.sysu.edu.cn\r\n",
    "\r\n",
    "2021/09/22"
   ],
   "metadata": {}
  },
  {
   "cell_type": "code",
   "execution_count": 2,
   "source": [
    "import pandas as pd\r\n",
    "import numpy as np\r\n",
    "import sympy as sp\r\n"
   ],
   "outputs": [],
   "metadata": {}
  },
  {
   "cell_type": "code",
   "execution_count": 3,
   "source": [
    "df1 = pd.read_csv('B9-Data/Na.csv')\r\n",
    "df2 = df1.diff()\r\n",
    "print(df2)\r\n",
    "print(df2.describe())"
   ],
   "outputs": [
    {
     "output_type": "stream",
     "name": "stdout",
     "text": [
      "        d\n",
      "0     NaN\n",
      "1   0.305\n",
      "2   0.275\n",
      "3   0.305\n",
      "4   0.280\n",
      "5   0.275\n",
      "6   0.305\n",
      "7   0.290\n",
      "8   0.285\n",
      "9   0.295\n",
      "10  0.295\n",
      "               d\n",
      "count  10.000000\n",
      "mean    0.291000\n",
      "std     0.011972\n",
      "min     0.275000\n",
      "25%     0.281250\n",
      "50%     0.292500\n",
      "75%     0.302500\n",
      "max     0.305000\n"
     ]
    }
   ],
   "metadata": {}
  },
  {
   "cell_type": "code",
   "execution_count": 4,
   "source": [
    "na_lam = 589.3\r\n",
    "# print('$\\Delta \\lambda = {}$'.format((na_lam**2/df2.mean())))\r\n",
    "print(na_lam**2/(0.291*2*1e6))"
   ],
   "outputs": [
    {
     "output_type": "stream",
     "name": "stdout",
     "text": [
      "0.5966915635738831\n"
     ]
    }
   ],
   "metadata": {}
  },
  {
   "cell_type": "code",
   "execution_count": 5,
   "source": [
    "d = 0.291*1e6\r\n",
    "##### mean & std of each measurements\r\n",
    "Sd = 0.011972*1e6\r\n",
    "\r\n",
    "##### Diff\r\n",
    "ds = sp.symbols('ds') \r\n",
    "delta_lam =  589.3**2/(2*ds)\r\n",
    "subs = {'ds':d} # Assignment\r\n",
    "delta_lam_d = sp.diff(delta_lam, 'ds').evalf(subs = subs) \r\n",
    "\r\n",
    "##### S\r\n",
    "Sa = ( (Sd*(delta_lam_d))**2 )**(1/2)\r\n",
    "u = 0.01*1e6/(3**(1/2)) # type B uncertainty \r\n",
    "Sb = ( (u*delta_lam_d)**2  )**(1/2)\r\n",
    "S = ( (Sa)**2 + (Sb)**2 )**(1/2)\r\n",
    "print('Sa = {}\\nSb = {}\\nS = {}'.format(Sa, Sb, S))"
   ],
   "outputs": [
    {
     "output_type": "stream",
     "name": "stdout",
     "text": [
      "Sa = 0.0245484240519125\n",
      "Sb = 0.0118384891701911\n",
      "S = 0.0272538978728777\n"
     ]
    }
   ],
   "metadata": {}
  },
  {
   "cell_type": "code",
   "execution_count": null,
   "source": [
    "df3 = pd.read_csv('B9-Data/Flake.csv')\r\n",
    "df3.describe()"
   ],
   "outputs": [
    {
     "output_type": "execute_result",
     "data": {
      "text/html": [
       "<div>\n",
       "<style scoped>\n",
       "    .dataframe tbody tr th:only-of-type {\n",
       "        vertical-align: middle;\n",
       "    }\n",
       "\n",
       "    .dataframe tbody tr th {\n",
       "        vertical-align: top;\n",
       "    }\n",
       "\n",
       "    .dataframe thead th {\n",
       "        text-align: right;\n",
       "    }\n",
       "</style>\n",
       "<table border=\"1\" class=\"dataframe\">\n",
       "  <thead>\n",
       "    <tr style=\"text-align: right;\">\n",
       "      <th></th>\n",
       "      <th>d</th>\n",
       "    </tr>\n",
       "  </thead>\n",
       "  <tbody>\n",
       "    <tr>\n",
       "      <th>count</th>\n",
       "      <td>5.000000</td>\n",
       "    </tr>\n",
       "    <tr>\n",
       "      <th>mean</th>\n",
       "      <td>0.160400</td>\n",
       "    </tr>\n",
       "    <tr>\n",
       "      <th>std</th>\n",
       "      <td>0.014188</td>\n",
       "    </tr>\n",
       "    <tr>\n",
       "      <th>min</th>\n",
       "      <td>0.151000</td>\n",
       "    </tr>\n",
       "    <tr>\n",
       "      <th>25%</th>\n",
       "      <td>0.152000</td>\n",
       "    </tr>\n",
       "    <tr>\n",
       "      <th>50%</th>\n",
       "      <td>0.154000</td>\n",
       "    </tr>\n",
       "    <tr>\n",
       "      <th>75%</th>\n",
       "      <td>0.160000</td>\n",
       "    </tr>\n",
       "    <tr>\n",
       "      <th>max</th>\n",
       "      <td>0.185000</td>\n",
       "    </tr>\n",
       "  </tbody>\n",
       "</table>\n",
       "</div>"
      ],
      "text/plain": [
       "              d\n",
       "count  5.000000\n",
       "mean   0.160400\n",
       "std    0.014188\n",
       "min    0.151000\n",
       "25%    0.152000\n",
       "50%    0.154000\n",
       "75%    0.160000\n",
       "max    0.185000"
      ]
     },
     "metadata": {},
     "execution_count": 4
    }
   ],
   "metadata": {}
  },
  {
   "cell_type": "code",
   "execution_count": null,
   "source": [],
   "outputs": [],
   "metadata": {}
  },
  {
   "cell_type": "code",
   "execution_count": 21,
   "source": [
    "df4 = pd.read_csv('B9-Data/Deltad.csv')\r\n",
    "df4['Delata'] = df4['d2'] - df4['d1']\r\n",
    "print(df4)\r\n",
    "print((df4['Delata']).mean())\r\n",
    "print((df4['Delata']).std())"
   ],
   "outputs": [
    {
     "output_type": "stream",
     "name": "stdout",
     "text": [
      "       d1      d2  Delata\n",
      "0  12.320  12.398   0.078\n",
      "1  12.318  12.399   0.081\n",
      "2  12.321  12.396   0.075\n",
      "0.078\n",
      "0.0029999999999992255\n"
     ]
    }
   ],
   "metadata": {}
  },
  {
   "cell_type": "code",
   "execution_count": null,
   "source": [
    "print('n = {}'.format(1+((df4['Delata']).mean())/df3.mean()))"
   ],
   "outputs": [
    {
     "output_type": "stream",
     "name": "stdout",
     "text": [
      "n = d    1.486284\n",
      "dtype: float64\n"
     ]
    }
   ],
   "metadata": {}
  },
  {
   "cell_type": "code",
   "execution_count": 25,
   "source": [
    "##### mean & std of each measurements\r\n",
    "delta_d = 0.078\r\n",
    "t = 0.160\r\n",
    "Sdelta_d = 0.003\r\n",
    "St = 0.014\r\n",
    "\r\n",
    "##### Diff\r\n",
    "delta_ds, ts = sp.symbols('delta_ds ts') \r\n",
    "n = 1+delta_ds/ts\r\n",
    "subs = {'delta_ds':delta_d, 'ts':t} # Assignment\r\n",
    "n_delta_d, n_t = tuple(sp.diff(n, i).evalf(subs = subs) for i in ['delta_ds', 'ts'])  \r\n",
    "print(n_delta_d, n_t)\r\n",
    "\r\n",
    "##### S\r\n",
    "Sa = ( (Sdelta_d*n_delta_d)**2 + (St*n_t)**2)**(1/2)\r\n",
    "u = 0.01/(3**(1/2)) # type B uncertainty \r\n",
    "Sb = ( (u*n_delta_d)**2 + (u*n_t)**2)**(1/2)\r\n",
    "S = ( (Sa)**2 + (Sb)**2 )**(1/2)\r\n",
    "print('Sa = {}\\nSb = {}\\nS = {}'.format(Sa, Sb, S))"
   ],
   "outputs": [
    {
     "output_type": "stream",
     "name": "stdout",
     "text": [
      "6.25000000000000 -3.04687500000000\n",
      "Sa = 0.0465952590298895\n",
      "Sb = 0.0401438859045912\n",
      "S = 0.0615032498294467\n"
     ]
    }
   ],
   "metadata": {}
  }
 ],
 "metadata": {
  "orig_nbformat": 4,
  "language_info": {
   "name": "python",
   "version": "3.8.8",
   "mimetype": "text/x-python",
   "codemirror_mode": {
    "name": "ipython",
    "version": 3
   },
   "pygments_lexer": "ipython3",
   "nbconvert_exporter": "python",
   "file_extension": ".py"
  },
  "kernelspec": {
   "name": "python3",
   "display_name": "Python 3.8.8 64-bit ('base': conda)"
  },
  "interpreter": {
   "hash": "af98b5f27ca83b05aed41da488c774428a0f9deb192455b0a9a2771786fb6f4a"
  }
 },
 "nbformat": 4,
 "nbformat_minor": 2
}