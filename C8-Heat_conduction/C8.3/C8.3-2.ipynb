{
 "cells": [
  {
   "cell_type": "markdown",
   "metadata": {},
   "source": [
    "# C8.3-2\n",
    "Jeg Vet\n",
    "\n",
    "huangzw29@mail2.sysu.edu.cn\n",
    "\n",
    "2022-05-28"
   ]
  },
  {
   "cell_type": "code",
   "execution_count": 48,
   "metadata": {},
   "outputs": [],
   "source": [
    "import numpy as np \n",
    "import pandas as pd\n",
    "import matplotlib.pyplot as plt\n",
    "import seaborn as sns\n",
    "import sympy as sp\n",
    "import glob,os\n",
    "from scipy.signal import argrelextrema"
   ]
  },
  {
   "cell_type": "code",
   "execution_count": 49,
   "metadata": {},
   "outputs": [],
   "source": [
    "# model = \"Mod2\"\n",
    "# model = \"Mod3\"\n",
    "model = \"Mod4\""
   ]
  },
  {
   "cell_type": "markdown",
   "metadata": {},
   "source": [
    "## Load data"
   ]
  },
  {
   "cell_type": "code",
   "execution_count": 50,
   "metadata": {},
   "outputs": [],
   "source": [
    "def getallfile(path, extension):\n",
    "    filepathdic = {}\n",
    "    for root, dirs, files in os.walk(path):\n",
    "        for file in files:\n",
    "            if extension in file:\n",
    "                filepath = root + \"/\" + file\n",
    "                filepathdic[file]= filepath\n",
    "    return filepathdic"
   ]
  },
  {
   "cell_type": "code",
   "execution_count": 51,
   "metadata": {},
   "outputs": [
    {
     "name": "stdout",
     "output_type": "stream",
     "text": [
      "dict_keys(['g', 'r'])\n"
     ]
    }
   ],
   "source": [
    "dfdic = {}\n",
    "path = \"Input/\" +model+\"/\"\n",
    "for fname, fpath in getallfile(path, \".tsv\").items():\n",
    "    dfdic[fname.rstrip(\".tsv\")] = pd.read_csv(fpath, sep=\"\\s+\")\n",
    "print(dfdic.keys())"
   ]
  },
  {
   "cell_type": "code",
   "execution_count": 52,
   "metadata": {},
   "outputs": [
    {
     "data": {
      "text/html": [
       "<div>\n",
       "<style scoped>\n",
       "    .dataframe tbody tr th:only-of-type {\n",
       "        vertical-align: middle;\n",
       "    }\n",
       "\n",
       "    .dataframe tbody tr th {\n",
       "        vertical-align: top;\n",
       "    }\n",
       "\n",
       "    .dataframe thead th {\n",
       "        text-align: right;\n",
       "    }\n",
       "</style>\n",
       "<table border=\"1\" class=\"dataframe\">\n",
       "  <thead>\n",
       "    <tr style=\"text-align: right;\">\n",
       "      <th></th>\n",
       "      <th>t</th>\n",
       "      <th>Glass</th>\n",
       "      <th>Rubber</th>\n",
       "    </tr>\n",
       "  </thead>\n",
       "  <tbody>\n",
       "    <tr>\n",
       "      <th>0</th>\n",
       "      <td>0.0</td>\n",
       "      <td>0.000000e+00</td>\n",
       "      <td>0.000000e+00</td>\n",
       "    </tr>\n",
       "    <tr>\n",
       "      <th>1</th>\n",
       "      <td>0.6</td>\n",
       "      <td>-1.767938e-07</td>\n",
       "      <td>-3.868240e-08</td>\n",
       "    </tr>\n",
       "    <tr>\n",
       "      <th>2</th>\n",
       "      <td>1.2</td>\n",
       "      <td>-3.769410e-07</td>\n",
       "      <td>-4.578669e-08</td>\n",
       "    </tr>\n",
       "    <tr>\n",
       "      <th>3</th>\n",
       "      <td>2.4</td>\n",
       "      <td>-1.469489e-07</td>\n",
       "      <td>2.197226e-08</td>\n",
       "    </tr>\n",
       "    <tr>\n",
       "      <th>4</th>\n",
       "      <td>4.8</td>\n",
       "      <td>-1.156715e-07</td>\n",
       "      <td>7.786363e-07</td>\n",
       "    </tr>\n",
       "    <tr>\n",
       "      <th>5</th>\n",
       "      <td>9.6</td>\n",
       "      <td>4.041959e-06</td>\n",
       "      <td>3.391463e-05</td>\n",
       "    </tr>\n",
       "    <tr>\n",
       "      <th>6</th>\n",
       "      <td>19.2</td>\n",
       "      <td>1.952516e-04</td>\n",
       "      <td>1.061937e-03</td>\n",
       "    </tr>\n",
       "    <tr>\n",
       "      <th>7</th>\n",
       "      <td>38.4</td>\n",
       "      <td>4.672227e-03</td>\n",
       "      <td>1.458370e-02</td>\n",
       "    </tr>\n",
       "    <tr>\n",
       "      <th>8</th>\n",
       "      <td>76.8</td>\n",
       "      <td>4.922179e-02</td>\n",
       "      <td>9.445455e-02</td>\n",
       "    </tr>\n",
       "    <tr>\n",
       "      <th>9</th>\n",
       "      <td>136.8</td>\n",
       "      <td>2.092216e-01</td>\n",
       "      <td>3.011665e-01</td>\n",
       "    </tr>\n",
       "    <tr>\n",
       "      <th>10</th>\n",
       "      <td>196.8</td>\n",
       "      <td>4.382769e-01</td>\n",
       "      <td>5.470215e-01</td>\n",
       "    </tr>\n",
       "    <tr>\n",
       "      <th>11</th>\n",
       "      <td>256.8</td>\n",
       "      <td>7.087310e-01</td>\n",
       "      <td>8.163232e-01</td>\n",
       "    </tr>\n",
       "    <tr>\n",
       "      <th>12</th>\n",
       "      <td>316.8</td>\n",
       "      <td>1.009672e+00</td>\n",
       "      <td>1.095990e+00</td>\n",
       "    </tr>\n",
       "    <tr>\n",
       "      <th>13</th>\n",
       "      <td>376.8</td>\n",
       "      <td>1.327681e+00</td>\n",
       "      <td>1.378112e+00</td>\n",
       "    </tr>\n",
       "    <tr>\n",
       "      <th>14</th>\n",
       "      <td>436.8</td>\n",
       "      <td>1.655954e+00</td>\n",
       "      <td>1.658673e+00</td>\n",
       "    </tr>\n",
       "    <tr>\n",
       "      <th>15</th>\n",
       "      <td>496.8</td>\n",
       "      <td>1.988922e+00</td>\n",
       "      <td>1.936018e+00</td>\n",
       "    </tr>\n",
       "    <tr>\n",
       "      <th>16</th>\n",
       "      <td>556.8</td>\n",
       "      <td>2.322530e+00</td>\n",
       "      <td>2.209521e+00</td>\n",
       "    </tr>\n",
       "    <tr>\n",
       "      <th>17</th>\n",
       "      <td>616.8</td>\n",
       "      <td>2.655523e+00</td>\n",
       "      <td>2.480250e+00</td>\n",
       "    </tr>\n",
       "  </tbody>\n",
       "</table>\n",
       "</div>"
      ],
      "text/plain": [
       "        t         Glass        Rubber\n",
       "0     0.0  0.000000e+00  0.000000e+00\n",
       "1     0.6 -1.767938e-07 -3.868240e-08\n",
       "2     1.2 -3.769410e-07 -4.578669e-08\n",
       "3     2.4 -1.469489e-07  2.197226e-08\n",
       "4     4.8 -1.156715e-07  7.786363e-07\n",
       "5     9.6  4.041959e-06  3.391463e-05\n",
       "6    19.2  1.952516e-04  1.061937e-03\n",
       "7    38.4  4.672227e-03  1.458370e-02\n",
       "8    76.8  4.922179e-02  9.445455e-02\n",
       "9   136.8  2.092216e-01  3.011665e-01\n",
       "10  196.8  4.382769e-01  5.470215e-01\n",
       "11  256.8  7.087310e-01  8.163232e-01\n",
       "12  316.8  1.009672e+00  1.095990e+00\n",
       "13  376.8  1.327681e+00  1.378112e+00\n",
       "14  436.8  1.655954e+00  1.658673e+00\n",
       "15  496.8  1.988922e+00  1.936018e+00\n",
       "16  556.8  2.322530e+00  2.209521e+00\n",
       "17  616.8  2.655523e+00  2.480250e+00"
      ]
     },
     "execution_count": 52,
     "metadata": {},
     "output_type": "execute_result"
    }
   ],
   "source": [
    "df1 = pd.concat([dfdic[\"g\"][\"t\"], dfdic[\"g\"][\"Tc\"], dfdic[\"r\"][\"Tc\"]], axis=1)\n",
    "df1.columns = [\"t\", \"Glass\", \"Rubber\"]\n",
    "df1[\"Glass\"] = df1[\"Glass\"] - df1.iloc[0,1]\n",
    "df1[\"Rubber\"] = df1[\"Rubber\"] - df1.iloc[0,2]\n",
    "\n",
    "df2 = pd.concat([dfdic[\"g\"][\"t\"], dfdic[\"g\"][\"Th\"]-dfdic[\"g\"][\"Tc\"], dfdic[\"r\"][\"Th\"]-dfdic[\"r\"][\"Tc\"]], axis=1)\n",
    "df2.columns = [\"t\", \"Glass\", \"Rubber\"]\n",
    "\n",
    "\n",
    "df1"
   ]
  },
  {
   "cell_type": "code",
   "execution_count": 53,
   "metadata": {},
   "outputs": [],
   "source": [
    "def smoothplot(df, par, dense=50, s=1, method=\"Rbf\", scatter=False, \n",
    "               xlab=\"x\", ylab=\"y\", result_path=\"Output/smooth.png\"):\n",
    "    '''\n",
    "    df: dataframe\n",
    "    par: {\"x\": \"\", \"y1\": \"\", \"y2\": \"\", ...}\n",
    "    s: smooth degree\n",
    "    '''\n",
    "    import seaborn as sns\n",
    "    import matplotlib.pyplot as plt\n",
    "    import numpy as np\n",
    "    from scipy.interpolate import UnivariateSpline,Rbf\n",
    "    import re\n",
    "    from scipy.signal import argrelextrema\n",
    "    # smooth\n",
    "    x_dense = np.linspace(df[par[\"x\"]].min(), df[par[\"x\"]].max(), dense)\n",
    "    ylist = list(filter(lambda y: re.match('y.*', y) != None, par.keys()))\n",
    "    if method == \"Rbf\":\n",
    "        for y in ylist:\n",
    "            smoothfunc = Rbf(df[par[\"x\"]], df[par[y]], smooth=s)\n",
    "            globals()[y+\"_smooth\"] = smoothfunc(x_dense)\n",
    "    elif method == \"UnivariateSpline\":\n",
    "        for y in ylist:\n",
    "            smoothfunc = UnivariateSpline(df[par[\"x\"]], df[par[y]], s=s)\n",
    "            globals()[y+\"_smooth\"] = smoothfunc(x_dense)\n",
    "    \n",
    "    # Plot\n",
    "    plt.figure(figsize= (10, 6))\n",
    "    ## lab\n",
    "    if xlab == \"x\":\n",
    "        xlab = par[\"x\"]\n",
    "    if ylab == \"y\":\n",
    "        ylab = par[\"y\"]\n",
    "    ## Scatter\n",
    "    if scatter == True:\n",
    "        for i in np.arange(0, len(ylist), 1):\n",
    "            x = np.array(df[par[\"x\"]])\n",
    "            y = np.array(df[par[ylist[i]]])\n",
    "            plt.scatter(x, y, color=plt.cm.Set2(i), alpha=0.5, s=10)\n",
    "            ## Add line:\n",
    "            top_loc = np.argmax(y)\n",
    "            # plt.vlines(x[top_loc], 0.1, y[top_loc], ls=':', color = plt.cm.Set2(i))\n",
    "            plt.hlines(y[top_loc], 0, x[top_loc], ls=':', color = plt.cm.Set2(i))\n",
    "            plt.annotate('{:.2f} K'.format(y[top_loc]), xy=(500, y[top_loc]+0.1), color=plt.cm.Set2(i)) \n",
    "\n",
    "    ## Smooth\n",
    "    for i in np.arange(0, len(ylist), 1):\n",
    "        x = x_dense\n",
    "        y = eval(ylist[i]+\"_smooth\")\n",
    "        plt.plot(x, y, color=plt.cm.Set2(i), label=par[ylist[i]])                          \n",
    "    ## Lab\n",
    "    plt.legend()\n",
    "    plt.xlabel(xlab)\n",
    "    plt.ylabel(ylab)\n",
    "    # plt.title(y=-0.17)\n",
    "    plt.savefig(result_path, bbox_inches = 'tight', dpi=300) "
   ]
  },
  {
   "cell_type": "code",
   "execution_count": 54,
   "metadata": {},
   "outputs": [
    {
     "data": {
      "image/png": "[encoded data removed]",
      "text/plain": [
       "<Figure size 720x432 with 1 Axes>"
      ]
     },
     "metadata": {
      "needs_background": "light"
     },
     "output_type": "display_data"
    }
   ],
   "source": [
    "smoothplot(df2, {\"x\": \"t\", \"y1\": \"Glass\", \"y2\": \"Rubber\"}, \n",
    "    dense=1000, s=0.1, method=\"UnivariateSpline\", scatter=True,\n",
    "    xlab=\"Time $t/s$\", ylab=\"Temperature $T /K$\",\n",
    "    result_path=\"Output/\"+model+\"/fig.1.png\")"
   ]
  },
  {
   "cell_type": "markdown",
   "metadata": {},
   "source": [
    "## Temperature-Power"
   ]
  },
  {
   "cell_type": "code",
   "execution_count": 55,
   "metadata": {},
   "outputs": [],
   "source": [
    "def fitplot(df, par, dense=50, xlab=\"x\", ylab=\"y\", deg=1, result_path=\"Output/fit.png\", label=\"Data\", cut=0):\n",
    "    '''\n",
    "    df: dataframe\n",
    "    par: {\"x\": \"\", \"y1\": \"\", \"y2\": \"\", ...}\n",
    "    deg: fit degree\n",
    "    '''\n",
    "    import seaborn as sns\n",
    "    import matplotlib.pyplot as plt\n",
    "    import numpy as np\n",
    "    import re\n",
    "    x_dense = np.linspace(df[par[\"x\"]][cut:].min(), df[par[\"x\"]][cut:].max(), dense)\n",
    "    ylist = list(filter(lambda y: re.match('y.*', y) != None, par.keys()))\n",
    "    for y in ylist:\n",
    "        func = np.polyfit(df[par[\"x\"]][cut:], df[par[y]][cut:], deg=deg) \n",
    "        globals()[y+\"_reg\"] = np.polyval(func, x_dense)\n",
    "        globals()[y+\"_r\"] = np.corrcoef(df[par[\"x\"]][cut:], df[par[y]][cut:])[0,1]\n",
    "        globals()[y+\"_coef_1\"] = tuple(func)[0]\n",
    "        globals()[y+\"_coef_2\"] = tuple(func)[1]\n",
    "        \n",
    "\n",
    "    plt.figure(figsize= (10, 6))\n",
    "    \n",
    "    for i in np.arange(0, len(ylist), 1):\n",
    "        x = x_dense\n",
    "        y = eval(ylist[i]+\"_reg\")\n",
    "        plt.plot(x, y, color=plt.cm.Set2(i), label='Fit. \\ny = {:.4f}x + {:.4f}\\nr = {:.8f}'\n",
    "                            .format(globals()[ylist[i]+\"_coef_1\"], globals()[ylist[i]+\"_coef_2\"], globals()[ylist[i]+\"_r\"]))    \n",
    "        plt.scatter(df[par[\"x\"]], df[par[ylist[i]]], color=plt.cm.Set2(i), label=par[ylist[i]], alpha=0.5, s=15)    \n",
    "        sns.regplot(x=df[par[\"x\"]][cut:], y=df[par[ylist[i]]][cut:], color = plt.cm.Set2(i), scatter = False)                          \n",
    "    \n",
    "    plt.legend()\n",
    "    plt.xlabel(xlab)\n",
    "    plt.ylabel(ylab)\n",
    "    # plt.title(y=-0.17)\n",
    "    plt.savefig(result_path, bbox_inches = 'tight', dpi=300)   "
   ]
  },
  {
   "cell_type": "code",
   "execution_count": 56,
   "metadata": {},
   "outputs": [
    {
     "data": {
      "image/png": "[encoded data removed]",
      "text/plain": [
       "<Figure size 720x432 with 1 Axes>"
      ]
     },
     "metadata": {
      "needs_background": "light"
     },
     "output_type": "display_data"
    }
   ],
   "source": [
    "fitplot(df1, par={\"x\": \"t\", \"y1\": \"Glass\", \"y2\": \"Rubber\"}, deg=1, cut=11,\n",
    "        xlab=\"Time $t/s$\", ylab=\"Temperature increase $T /K$\", \n",
    "        result_path=\"Output/\"+model+\"/fig.2.png\")"
   ]
  }
 ],
 "metadata": {
  "interpreter": {
   "hash": "ab51cedd4faa636a99de84d1efe44e10be59573e2465e84fca2cd5ae33c3e6f5"
  },
  "kernelspec": {
   "display_name": "Python 3.9.7 ('base')",
   "language": "python",
   "name": "python3"
  },
  "language_info": {
   "codemirror_mode": {
    "name": "ipython",
    "version": 3
   },
   "file_extension": ".py",
   "mimetype": "text/x-python",
   "name": "python",
   "nbconvert_exporter": "python",
   "pygments_lexer": "ipython3",
   "version": "3.9.7"
  },
  "orig_nbformat": 4
 },
 "nbformat": 4,
 "nbformat_minor": 2
}
