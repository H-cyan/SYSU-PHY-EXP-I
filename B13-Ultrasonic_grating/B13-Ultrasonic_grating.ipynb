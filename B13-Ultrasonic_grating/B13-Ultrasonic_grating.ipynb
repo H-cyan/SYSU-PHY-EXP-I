{
 "cells": [
  {
   "cell_type": "markdown",
   "source": [
    "# B13 Measuring the liquid acoustic velocity using ultrasonic grating method\r\n",
    "Jeg Vet\r\n",
    "\r\n",
    "huangzw29@mail2.sysu.edu.cn\r\n",
    "\r\n",
    "2021/09/30"
   ],
   "metadata": {}
  },
  {
   "cell_type": "code",
   "execution_count": 18,
   "source": [
    "import pandas as pd\r\n",
    "import numpy as np\r\n",
    "import matplotlib.pyplot as plt"
   ],
   "outputs": [],
   "metadata": {}
  },
  {
   "cell_type": "markdown",
   "source": [
    "## EXP1"
   ],
   "metadata": {}
  },
  {
   "cell_type": "code",
   "execution_count": 7,
   "source": [
    "df1 = pd.read_csv('B13-Data\\spectrometer.csv', index_col='Angle')\r\n",
    "df2 = pd.DataFrame()\r\n",
    "lam = 589.3e-9\r\n",
    "f = 10.64e+6\r\n",
    "\r\n",
    "df2['theta1'] = (df1.loc['m1',] + df1.loc['s1',]/60)*np.pi/180\r\n",
    "df2['theta2'] = (df1.loc['m2',] + df1.loc['s2',]/60)*np.pi/180\r\n",
    "df2['theta'] = (df2['theta1'] + df2['theta2'] - np.pi)/2\r\n",
    "df2"
   ],
   "outputs": [
    {
     "output_type": "execute_result",
     "data": {
      "text/html": [
       "<div>\n",
       "<style scoped>\n",
       "    .dataframe tbody tr th:only-of-type {\n",
       "        vertical-align: middle;\n",
       "    }\n",
       "\n",
       "    .dataframe tbody tr th {\n",
       "        vertical-align: top;\n",
       "    }\n",
       "\n",
       "    .dataframe thead th {\n",
       "        text-align: right;\n",
       "    }\n",
       "</style>\n",
       "<table border=\"1\" class=\"dataframe\">\n",
       "  <thead>\n",
       "    <tr style=\"text-align: right;\">\n",
       "      <th></th>\n",
       "      <th>theta1</th>\n",
       "      <th>theta2</th>\n",
       "      <th>theta</th>\n",
       "    </tr>\n",
       "  </thead>\n",
       "  <tbody>\n",
       "    <tr>\n",
       "      <th>-3</th>\n",
       "      <td>1.735148</td>\n",
       "      <td>4.879068</td>\n",
       "      <td>1.736312</td>\n",
       "    </tr>\n",
       "    <tr>\n",
       "      <th>-2</th>\n",
       "      <td>1.730785</td>\n",
       "      <td>4.874414</td>\n",
       "      <td>1.731803</td>\n",
       "    </tr>\n",
       "    <tr>\n",
       "      <th>-1</th>\n",
       "      <td>1.726131</td>\n",
       "      <td>4.870050</td>\n",
       "      <td>1.727294</td>\n",
       "    </tr>\n",
       "    <tr>\n",
       "      <th>0</th>\n",
       "      <td>1.721767</td>\n",
       "      <td>4.865105</td>\n",
       "      <td>1.722640</td>\n",
       "    </tr>\n",
       "    <tr>\n",
       "      <th>1</th>\n",
       "      <td>1.717986</td>\n",
       "      <td>4.861615</td>\n",
       "      <td>1.719004</td>\n",
       "    </tr>\n",
       "    <tr>\n",
       "      <th>2</th>\n",
       "      <td>1.713622</td>\n",
       "      <td>4.856960</td>\n",
       "      <td>1.714495</td>\n",
       "    </tr>\n",
       "    <tr>\n",
       "      <th>3</th>\n",
       "      <td>1.708968</td>\n",
       "      <td>4.852597</td>\n",
       "      <td>1.709986</td>\n",
       "    </tr>\n",
       "  </tbody>\n",
       "</table>\n",
       "</div>"
      ],
      "text/plain": [
       "      theta1    theta2     theta\n",
       "-3  1.735148  4.879068  1.736312\n",
       "-2  1.730785  4.874414  1.731803\n",
       "-1  1.726131  4.870050  1.727294\n",
       "0   1.721767  4.865105  1.722640\n",
       "1   1.717986  4.861615  1.719004\n",
       "2   1.713622  4.856960  1.714495\n",
       "3   1.708968  4.852597  1.709986"
      ]
     },
     "metadata": {},
     "execution_count": 7
    }
   ],
   "metadata": {}
  },
  {
   "cell_type": "code",
   "execution_count": 29,
   "source": [
    "df3 = pd.DataFrame(columns=['theta'])\r\n",
    "for i in np.arange(0, 7, 1):\r\n",
    "    df3.loc[i] = [-(df2.iloc[i,2] - df2.iloc[3,2])]\r\n",
    "df3['k'] = np.arange(-3 , 4, 1)\r\n",
    "df3['sin'] = np.sin(df3['theta'])\r\n",
    "df3"
   ],
   "outputs": [
    {
     "output_type": "execute_result",
     "data": {
      "text/html": [
       "<div>\n",
       "<style scoped>\n",
       "    .dataframe tbody tr th:only-of-type {\n",
       "        vertical-align: middle;\n",
       "    }\n",
       "\n",
       "    .dataframe tbody tr th {\n",
       "        vertical-align: top;\n",
       "    }\n",
       "\n",
       "    .dataframe thead th {\n",
       "        text-align: right;\n",
       "    }\n",
       "</style>\n",
       "<table border=\"1\" class=\"dataframe\">\n",
       "  <thead>\n",
       "    <tr style=\"text-align: right;\">\n",
       "      <th></th>\n",
       "      <th>theta</th>\n",
       "      <th>k</th>\n",
       "      <th>sin</th>\n",
       "    </tr>\n",
       "  </thead>\n",
       "  <tbody>\n",
       "    <tr>\n",
       "      <th>0</th>\n",
       "      <td>-0.013672</td>\n",
       "      <td>-3</td>\n",
       "      <td>-0.013671</td>\n",
       "    </tr>\n",
       "    <tr>\n",
       "      <th>1</th>\n",
       "      <td>-0.009163</td>\n",
       "      <td>-2</td>\n",
       "      <td>-0.009163</td>\n",
       "    </tr>\n",
       "    <tr>\n",
       "      <th>2</th>\n",
       "      <td>-0.004654</td>\n",
       "      <td>-1</td>\n",
       "      <td>-0.004654</td>\n",
       "    </tr>\n",
       "    <tr>\n",
       "      <th>3</th>\n",
       "      <td>-0.000000</td>\n",
       "      <td>0</td>\n",
       "      <td>-0.000000</td>\n",
       "    </tr>\n",
       "    <tr>\n",
       "      <th>4</th>\n",
       "      <td>0.003636</td>\n",
       "      <td>1</td>\n",
       "      <td>0.003636</td>\n",
       "    </tr>\n",
       "    <tr>\n",
       "      <th>5</th>\n",
       "      <td>0.008145</td>\n",
       "      <td>2</td>\n",
       "      <td>0.008145</td>\n",
       "    </tr>\n",
       "    <tr>\n",
       "      <th>6</th>\n",
       "      <td>0.012654</td>\n",
       "      <td>3</td>\n",
       "      <td>0.012653</td>\n",
       "    </tr>\n",
       "  </tbody>\n",
       "</table>\n",
       "</div>"
      ],
      "text/plain": [
       "      theta  k       sin\n",
       "0 -0.013672 -3 -0.013671\n",
       "1 -0.009163 -2 -0.009163\n",
       "2 -0.004654 -1 -0.004654\n",
       "3 -0.000000  0 -0.000000\n",
       "4  0.003636  1  0.003636\n",
       "5  0.008145  2  0.008145\n",
       "6  0.012654  3  0.012653"
      ]
     },
     "metadata": {},
     "execution_count": 29
    }
   ],
   "metadata": {}
  },
  {
   "cell_type": "code",
   "execution_count": 64,
   "source": [
    "theta_func = np.polyfit(df3['sin'], df3['k'], deg=1)\r\n",
    "\r\n",
    "sin_dns = np.linspace(-0.013, 0.014, 20)\r\n",
    "k_reg = np.polyval(theta_func, sin_dns)\r\n",
    "\r\n",
    "r = np.corrcoef(df3['sin'], df3['k'])[0,1]\r\n",
    "\r\n",
    "A1, A2 = tuple(theta_func)\r\n",
    "plt.scatter(df3['sin'], df3['k'], color='lightcoral', label='Original values')\r\n",
    "plt.plot(sin_dns, k_reg, color='lightseagreen', \r\n",
    "                          label='Fitting curve. \\ny = {:.2f}x + {:.2f}\\nr = {:.8f}'\r\n",
    "                          .format(A1, A2, r))\r\n",
    "plt.legend()   \r\n",
    "plt.xlabel(r'Sine value of the angular positions of the fringes  $sin(\\theta)$')\r\n",
    "plt.ylabel('Diffraction order  K')\r\n",
    "plt.title(r'fig. 1. Fitting of k-$sin(\\theta)$ curve.', y=-0.25)\r\n",
    "plt.savefig(r'B13-Output\\fig.1.png', bbox_inches = 'tight', dpi=300)\r\n",
    "u_exp1 = lam*f*A1\r\n",
    "print('u = {}'.format(u_exp1))"
   ],
   "outputs": [
    {
     "output_type": "stream",
     "name": "stdout",
     "text": [
      "u = 1439.5653123599673\n"
     ]
    },
    {
     "output_type": "display_data",
     "data": {
      "image/png": "[encoded data removed]",
      "text/plain": [
       "<Figure size 432x288 with 1 Axes>"
      ]
     },
     "metadata": {
      "needs_background": "light"
     }
    }
   ],
   "metadata": {}
  },
  {
   "cell_type": "markdown",
   "source": [
    "## EXP2"
   ],
   "metadata": {}
  },
  {
   "cell_type": "code",
   "execution_count": 52,
   "source": [
    "df4 = pd.read_csv('B13-Data\\micrometer_eyepiece.csv').T\r\n",
    "F = 170E-3\r\n",
    "\r\n",
    "df5 = pd.DataFrame(columns=['x'])\r\n",
    "for i in np.arange(0, 7, 1):\r\n",
    "    df5.loc[i] = [(df4.iloc[i,0] - df4.iloc[3,0])*1e-3]\r\n",
    "df5['k'] = np.arange(-3 , 4, 1)\r\n",
    "df5"
   ],
   "outputs": [
    {
     "output_type": "execute_result",
     "data": {
      "text/html": [
       "<div>\n",
       "<style scoped>\n",
       "    .dataframe tbody tr th:only-of-type {\n",
       "        vertical-align: middle;\n",
       "    }\n",
       "\n",
       "    .dataframe tbody tr th {\n",
       "        vertical-align: top;\n",
       "    }\n",
       "\n",
       "    .dataframe thead th {\n",
       "        text-align: right;\n",
       "    }\n",
       "</style>\n",
       "<table border=\"1\" class=\"dataframe\">\n",
       "  <thead>\n",
       "    <tr style=\"text-align: right;\">\n",
       "      <th></th>\n",
       "      <th>x</th>\n",
       "      <th>k</th>\n",
       "    </tr>\n",
       "  </thead>\n",
       "  <tbody>\n",
       "    <tr>\n",
       "      <th>0</th>\n",
       "      <td>-0.002105</td>\n",
       "      <td>-3</td>\n",
       "    </tr>\n",
       "    <tr>\n",
       "      <th>1</th>\n",
       "      <td>-0.001400</td>\n",
       "      <td>-2</td>\n",
       "    </tr>\n",
       "    <tr>\n",
       "      <th>2</th>\n",
       "      <td>-0.000685</td>\n",
       "      <td>-1</td>\n",
       "    </tr>\n",
       "    <tr>\n",
       "      <th>3</th>\n",
       "      <td>0.000000</td>\n",
       "      <td>0</td>\n",
       "    </tr>\n",
       "    <tr>\n",
       "      <th>4</th>\n",
       "      <td>0.000735</td>\n",
       "      <td>1</td>\n",
       "    </tr>\n",
       "    <tr>\n",
       "      <th>5</th>\n",
       "      <td>0.001410</td>\n",
       "      <td>2</td>\n",
       "    </tr>\n",
       "    <tr>\n",
       "      <th>6</th>\n",
       "      <td>0.002105</td>\n",
       "      <td>3</td>\n",
       "    </tr>\n",
       "  </tbody>\n",
       "</table>\n",
       "</div>"
      ],
      "text/plain": [
       "          x  k\n",
       "0 -0.002105 -3\n",
       "1 -0.001400 -2\n",
       "2 -0.000685 -1\n",
       "3  0.000000  0\n",
       "4  0.000735  1\n",
       "5  0.001410  2\n",
       "6  0.002105  3"
      ]
     },
     "metadata": {},
     "execution_count": 52
    }
   ],
   "metadata": {}
  },
  {
   "cell_type": "code",
   "execution_count": 66,
   "source": [
    "x_func = np.polyfit(df5['x'], df5['k'], deg=1)\r\n",
    "\r\n",
    "X_dns = np.linspace(-0.0022, 0.0022, 20)\r\n",
    "k_reg = np.polyval(x_func, X_dns)\r\n",
    "\r\n",
    "r = np.corrcoef(df5['x'], df5['k'])[0,1]\r\n",
    "\r\n",
    "A1, A2 = tuple(x_func)\r\n",
    "plt.scatter(df5['x'], df5['k'], color='lightcoral', label='Original values')\r\n",
    "plt.plot(X_dns, k_reg, color='lightseagreen', \r\n",
    "                          label='Fitting curve. \\ny = {:.2f}x + {:.2f}\\nr = {:.8f}'\r\n",
    "                          .format(A1, A2, r))\r\n",
    "plt.legend()     \r\n",
    "plt.xlabel('Locations of the fringes  x/m')\r\n",
    "plt.ylabel('Diffraction order  K')\r\n",
    "plt.title('fig. 2. Fitting of k-x curve.', y=-0.25)\r\n",
    "plt.savefig(r'B13-Output\\fig.2.png', bbox_inches = 'tight', dpi=300)\r\n",
    "u_exp2 = lam*f*A1*F\r\n",
    "print('u = {}'.format(u_exp2))"
   ],
   "outputs": [
    {
     "output_type": "stream",
     "name": "stdout",
     "text": [
      "u = 1517.232160382742\n"
     ]
    },
    {
     "output_type": "display_data",
     "data": {
      "image/png": "[encoded data removed]",
      "text/plain": [
       "<Figure size 432x288 with 1 Axes>"
      ]
     },
     "metadata": {
      "needs_background": "light"
     }
    }
   ],
   "metadata": {}
  },
  {
   "cell_type": "markdown",
   "source": [
    "## Relative error"
   ],
   "metadata": {}
  },
  {
   "cell_type": "code",
   "execution_count": 50,
   "source": [
    "T = 27\r\n",
    "u_the = 1404.3 + 4.7*T - 0.04*T**2\r\n",
    "print('theoretical value : {}'.format(u_the))\r\n",
    "print('Relative error of exp1 : {}'.format((u_the - u_exp1)/u_the))\r\n",
    "print('Relative error of exp2 : {}'.format((u_the - u_exp2)/u_the))"
   ],
   "outputs": [
    {
     "output_type": "stream",
     "name": "stdout",
     "text": [
      "theoretical value : 1502.04\n",
      "Relative error of exp1 : 0.04159322497405708\n",
      "Relative error of exp2 : -0.010114351403918692\n"
     ]
    }
   ],
   "metadata": {}
  }
 ],
 "metadata": {
  "orig_nbformat": 4,
  "language_info": {
   "name": "python",
   "version": "3.8.8",
   "mimetype": "text/x-python",
   "codemirror_mode": {
    "name": "ipython",
    "version": 3
   },
   "pygments_lexer": "ipython3",
   "nbconvert_exporter": "python",
   "file_extension": ".py"
  },
  "kernelspec": {
   "name": "python3",
   "display_name": "Python 3.8.8 64-bit ('base': conda)"
  },
  "interpreter": {
   "hash": "af98b5f27ca83b05aed41da488c774428a0f9deb192455b0a9a2771786fb6f4a"
  }
 },
 "nbformat": 4,
 "nbformat_minor": 2
}