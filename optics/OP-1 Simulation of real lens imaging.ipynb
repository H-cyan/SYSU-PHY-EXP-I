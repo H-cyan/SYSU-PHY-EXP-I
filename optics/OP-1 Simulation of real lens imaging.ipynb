{
 "metadata": {
  "language_info": {
   "codemirror_mode": {
    "name": "ipython",
    "version": 3
   },
   "file_extension": ".py",
   "mimetype": "text/x-python",
   "name": "python",
   "nbconvert_exporter": "python",
   "pygments_lexer": "ipython3",
   "version": "3.8.5"
  },
  "orig_nbformat": 2,
  "kernelspec": {
   "name": "python3",
   "display_name": "Python 3.8.5 64-bit ('base': conda)",
   "metadata": {
    "interpreter": {
     "hash": "b3ba2566441a7c06988d0923437866b63cedc61552a5af99d1f4fb67d367b25f"
    }
   }
  }
 },
 "nbformat": 4,
 "nbformat_minor": 2,
 "cells": [
  {
   "source": [
    "# Real lens "
   ],
   "cell_type": "markdown",
   "metadata": {}
  },
  {
   "cell_type": "code",
   "execution_count": 10,
   "metadata": {},
   "outputs": [],
   "source": [
    "import numpy as np\n"
   ]
  },
  {
   "cell_type": "code",
   "execution_count": 11,
   "metadata": {},
   "outputs": [],
   "source": [
    "def calS(nl,t=4,r1=29,r2=82.9):\n",
    "    '''\n",
    "    calS(nl,t=4,r1=29,r2=82.9)\n",
    "    caculate the system matrix\n",
    "    args:\n",
    "        nl - refractive index of the lens\n",
    "        t - thickness of the lens. Default: 4mm\n",
    "        r1 - radius of the first sphere. Default: 29mm\n",
    "        r2 - radius of the second sphere. Default: 82.9mm\n",
    "    returns:\n",
    "        S - system matrix\n",
    "    '''\n",
    "    phi1=(nl-1)/r1\n",
    "    R1=np.array([[1,phi1],\n",
    "                    [0,1]])\n",
    "    phi2=(1-nl)/r2\n",
    "    R2=np.array([[1,phi2],\n",
    "                    [0,1]])\n",
    "    T=np.array([[1,0],\n",
    "                [(-t/nl),1]])\n",
    "    S=R2@T@R1\n",
    "    return S\n",
    "\n",
    "def calLF2(S):\n",
    "    '''\n",
    "    caculate the vertex focal distance\n",
    "    args:\n",
    "        S - system matrix\n",
    "    returns:\n",
    "        vertex focal distance\n",
    "    '''\n",
    "    return S[1,1]/S[0,1]\n",
    "\n"
   ]
  },
  {
   "source": [
    "##  exp1 focus"
   ],
   "cell_type": "markdown",
   "metadata": {}
  },
  {
   "cell_type": "code",
   "execution_count": 12,
   "metadata": {},
   "outputs": [
    {
     "output_type": "stream",
     "name": "stdout",
     "text": [
      "79.78908169991499\n"
     ]
    }
   ],
   "source": [
    "S1=calS(1.519471)\n",
    "print(calLF2(S1))"
   ]
  },
  {
   "cell_type": "code",
   "execution_count": 13,
   "metadata": {},
   "outputs": [
    {
     "output_type": "stream",
     "name": "stdout",
     "text": [
      "80.22229378837679\n"
     ]
    }
   ],
   "source": [
    "S2=calS(1.516796)\n",
    "print(calLF2(S2))"
   ]
  },
  {
   "cell_type": "code",
   "execution_count": 14,
   "metadata": {},
   "outputs": [
    {
     "output_type": "stream",
     "name": "stdout",
     "text": [
      "80.50145860242034\n"
     ]
    }
   ],
   "source": [
    "S3=calS(1.515087)\n",
    "print(calLF2(S3))"
   ]
  },
  {
   "source": [
    "## exp2 magnification"
   ],
   "cell_type": "markdown",
   "metadata": {}
  },
  {
   "cell_type": "code",
   "execution_count": 15,
   "metadata": {},
   "outputs": [
    {
     "output_type": "stream",
     "name": "stdout",
     "text": [
      "[253.91869506337414, 122.31143015967072]\n[127.65128594949238, 248.57883927355246]\n"
     ]
    }
   ],
   "source": [
    "S4=calS(1.516796)\n",
    "def calL(S,beta):\n",
    "    l1=(S[0,0]-1/beta)/S[0,1]\n",
    "    l2=(S[1,0]-l1*S[1,1])/(S[0,0]-l1*S[0,1])\n",
    "    return [l1,l2]\n",
    "    \n",
    "print(calL(S4,-1/2))\n",
    "print(calL(S4,-2))\n"
   ]
  },
  {
   "cell_type": "code",
   "execution_count": null,
   "metadata": {},
   "outputs": [],
   "source": []
  }
 ]
}