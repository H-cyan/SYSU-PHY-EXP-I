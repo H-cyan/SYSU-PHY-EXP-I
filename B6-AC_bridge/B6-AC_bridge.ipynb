{
 "cells": [
  {
   "cell_type": "markdown",
   "metadata": {},
   "source": [
    "# B6 AC bridge\n",
    "Jeg Vet\n",
    "\n",
    "huangzw29@mail2.sysu.edu.cn\n",
    "\n",
    "2021/11/20"
   ]
  },
  {
   "cell_type": "code",
   "execution_count": 1,
   "metadata": {},
   "outputs": [],
   "source": [
    "import pandas as pd\n",
    "import numpy as np\n",
    "import sympy as sp"
   ]
  },
  {
   "cell_type": "markdown",
   "metadata": {},
   "source": [
    "## 1. Capacity"
   ]
  },
  {
   "cell_type": "code",
   "execution_count": 2,
   "metadata": {},
   "outputs": [],
   "source": [
    "dfc = pd.read_csv('B6-Data/C.csv')\n",
    "omg = 10000*2*np.pi\n",
    "C0 = 0.47e-6\n",
    "R2 = 510"
   ]
  },
  {
   "cell_type": "code",
   "execution_count": 3,
   "metadata": {},
   "outputs": [
    {
     "name": "stdout",
     "output_type": "stream",
     "text": [
      "11.249999999999998 132.60999999999999\n",
      "0.11785113019775827 0.42018514437751625\n"
     ]
    }
   ],
   "source": [
    "dfc.describe()\n",
    "R0, R4 = tuple((dfc.describe().loc['mean'])[:2])\n",
    "SR0, SR4 = tuple((dfc.describe().loc['std'])[:2])\n",
    "print(R0, R4)\n",
    "print(SR0, SR4)"
   ]
  },
  {
   "cell_type": "markdown",
   "metadata": {},
   "source": [
    "### 1.1 C, R, Z, D"
   ]
  },
  {
   "cell_type": "code",
   "execution_count": 4,
   "metadata": {},
   "outputs": [
    {
     "name": "stdout",
     "output_type": "stream",
     "text": [
      "1.222092156862745e-07 43.26596787572581 137.23045535353464 0.33222342311712055\n"
     ]
    }
   ],
   "source": [
    "## exp\n",
    "C = (C0/R2)*R4\n",
    "RC = R2*R0/R4\n",
    "ZC = ( (1/(omg*C)**2 + (RC)**2 )**(1/2) )\n",
    "DC = omg*C0*R0\n",
    "print(C, RC, ZC, DC)\n",
    "\n",
    "## Dig\n",
    "C_dig = 97.526e-9\n",
    "RC_dig = 52.50\n",
    "ZC_dig = 171.43\n",
    "DC_dig = 0.3221\n",
    "\n",
    "## Sim\n",
    "dfc_sim = pd.read_csv('B6-Data/C_simu.csv')\n",
    "C_sim = (C0/R2)*dfc_sim.at[0,'R4']\n",
    "RC_sim = R2*dfc_sim.at[0,'R0']/dfc_sim.at[0,'R4']\n",
    "ZC_sim = ( (1/(omg*C_sim))**2 + (RC_sim**2 ))**(1/2)\n",
    "DC_sim = omg*C0*dfc_sim.at[0,'R0']"
   ]
  },
  {
   "cell_type": "code",
   "execution_count": 5,
   "metadata": {},
   "outputs": [
    {
     "data": {
      "text/html": [
       "<div>\n",
       "<style scoped>\n",
       "    .dataframe tbody tr th:only-of-type {\n",
       "        vertical-align: middle;\n",
       "    }\n",
       "\n",
       "    .dataframe tbody tr th {\n",
       "        vertical-align: top;\n",
       "    }\n",
       "\n",
       "    .dataframe thead th {\n",
       "        text-align: right;\n",
       "    }\n",
       "</style>\n",
       "<table border=\"1\" class=\"dataframe\">\n",
       "  <thead>\n",
       "    <tr style=\"text-align: right;\">\n",
       "      <th></th>\n",
       "      <th>C</th>\n",
       "      <th>RC</th>\n",
       "      <th>ZC</th>\n",
       "      <th>DC</th>\n",
       "    </tr>\n",
       "  </thead>\n",
       "  <tbody>\n",
       "    <tr>\n",
       "      <th>exp</th>\n",
       "      <td>1.222092e-07</td>\n",
       "      <td>43.265968</td>\n",
       "      <td>137.230455</td>\n",
       "      <td>0.332223</td>\n",
       "    </tr>\n",
       "    <tr>\n",
       "      <th>dig</th>\n",
       "      <td>9.752600e-08</td>\n",
       "      <td>52.500000</td>\n",
       "      <td>171.430000</td>\n",
       "      <td>0.322100</td>\n",
       "    </tr>\n",
       "    <tr>\n",
       "      <th>sim</th>\n",
       "      <td>9.999020e-08</td>\n",
       "      <td>51.000000</td>\n",
       "      <td>167.141447</td>\n",
       "      <td>0.320411</td>\n",
       "    </tr>\n",
       "    <tr>\n",
       "      <th>exp_dig</th>\n",
       "      <td>-2.019751e-01</td>\n",
       "      <td>0.213425</td>\n",
       "      <td>0.249212</td>\n",
       "      <td>-0.030472</td>\n",
       "    </tr>\n",
       "    <tr>\n",
       "      <th>exp_sim</th>\n",
       "      <td>-1.818113e-01</td>\n",
       "      <td>0.178756</td>\n",
       "      <td>0.217962</td>\n",
       "      <td>-0.035556</td>\n",
       "    </tr>\n",
       "  </tbody>\n",
       "</table>\n",
       "</div>"
      ],
      "text/plain": [
       "                    C         RC          ZC        DC\n",
       "exp      1.222092e-07  43.265968  137.230455  0.332223\n",
       "dig      9.752600e-08  52.500000  171.430000  0.322100\n",
       "sim      9.999020e-08  51.000000  167.141447  0.320411\n",
       "exp_dig -2.019751e-01   0.213425    0.249212 -0.030472\n",
       "exp_sim -1.818113e-01   0.178756    0.217962 -0.035556"
      ]
     },
     "execution_count": 5,
     "metadata": {},
     "output_type": "execute_result"
    }
   ],
   "source": [
    "C_par = pd.DataFrame({'C':[C, C_dig, C_sim], \n",
    "                    'RC':[RC, RC_dig, RC_sim], \n",
    "                    'ZC':[ZC, ZC_dig, ZC_sim],\n",
    "                    'DC':[DC, DC_dig, DC_sim]},\n",
    "                    index=['exp','dig','sim'])\n",
    "C_par.loc['exp_dig',] = (C_par.loc['dig',]-C_par.loc['exp',])/C_par.loc['exp',]  \n",
    "C_par.loc['exp_sim',] = (C_par.loc['sim',]-C_par.loc['exp',])/C_par.loc['exp',]      \n",
    "C_par"
   ]
  },
  {
   "cell_type": "markdown",
   "metadata": {},
   "source": [
    "### 1.2 Uncertainty"
   ]
  },
  {
   "cell_type": "code",
   "execution_count": 6,
   "metadata": {},
   "outputs": [],
   "source": [
    "R0s, R4s = sp.symbols('R0s R4s') \n",
    "subs = {'R0s':R0, 'R4s':R4} "
   ]
  },
  {
   "cell_type": "markdown",
   "metadata": {},
   "source": [
    "#### 1.2.1 C"
   ]
  },
  {
   "cell_type": "code",
   "execution_count": 7,
   "metadata": {},
   "outputs": [
    {
     "name": "stdout",
     "output_type": "stream",
     "text": [
      "0 9.21568627450980e-10\n",
      "Sa=3.87229446779280E-10\n",
      "Sb=5.32067895135538E-11\n",
      "S=3.90867761401892E-10\n"
     ]
    }
   ],
   "source": [
    "F_C = (C0/R2)*R4s\n",
    "F_C_R0, F_C_R4 = tuple(sp.diff(F_C, i).evalf(subs = subs) for i in ['R0s', 'R4s'])  \n",
    "print(F_C_R0, F_C_R4)\n",
    "\n",
    "# S\n",
    "Sa = ( (SR0*F_C_R0)**2 + (SR4*F_C_R4)**2 )**(1/2)\n",
    "u = 0.1/(3**(1/2)) \n",
    "Sb = ( (u*F_C_R0)**2 + (u*F_C_R4)**2 )**(1/2)\n",
    "S = ( (Sa)**2 + (Sb)**2 )**(1/2)\n",
    "print('Sa={}\\nSb={}\\nS={}'.format(Sa, Sb, S))"
   ]
  },
  {
   "cell_type": "markdown",
   "metadata": {},
   "source": [
    "#### 1.2.2 R"
   ]
  },
  {
   "cell_type": "code",
   "execution_count": 8,
   "metadata": {},
   "outputs": [
    {
     "name": "stdout",
     "output_type": "stream",
     "text": [
      "3.84586381117563 -0.326264745311257\n",
      "Sa=0.473518803532807\n",
      "Sb=0.222838634727339\n",
      "S=0.523332699557639\n"
     ]
    }
   ],
   "source": [
    "F_RC = R2*R0s/R4s\n",
    "F_RC_R0, F_RC_R4 = tuple(sp.diff(F_RC, i).evalf(subs = subs) for i in ['R0s', 'R4s'])  \n",
    "print(F_RC_R0, F_RC_R4)\n",
    "\n",
    "# S\n",
    "Sa = ( (SR0*F_RC_R0)**2 + (SR4*F_RC_R4)**2 )**(1/2)\n",
    "u = 0.1/(3**(1/2)) \n",
    "Sb = ( (u*F_RC_R0)**2 + (u*F_RC_R4)**2 )**(1/2)\n",
    "S = ( (Sa)**2 + (Sb)**2 )**(1/2)\n",
    "print('Sa={}\\nSb={}\\nS={}'.format(Sa, Sb, S))"
   ]
  },
  {
   "cell_type": "markdown",
   "metadata": {},
   "source": [
    "#### 1.2.3 Z"
   ]
  },
  {
   "cell_type": "code",
   "execution_count": 9,
   "metadata": {},
   "outputs": [
    {
     "name": "stdout",
     "output_type": "stream",
     "text": [
      "1.21252253867461 -1.03484243536336\n",
      "Sa=0.457703769007002\n",
      "Sb=0.0920345908308880\n",
      "S=0.466865190470037\n"
     ]
    }
   ],
   "source": [
    "F_ZC = ( (1/(omg*(C0/R2)*R4s)**2 + (R2*R0s/R4s)**2 )**(1/2) )\n",
    "F_ZC_R0, F_ZC_R4 = tuple(sp.diff(F_ZC, i).evalf(subs = subs) for i in ['R0s', 'R4s'])  \n",
    "print(F_ZC_R0, F_ZC_R4)\n",
    "\n",
    "# S\n",
    "Sa = ( (SR0*F_ZC_R0)**2 + (SR4*F_ZC_R4)**2 )**(1/2)\n",
    "u = 0.1/(3**(1/2)) \n",
    "Sb = ( (u*F_ZC_R0)**2 + (u*F_ZC_R4)**2 )**(1/2)\n",
    "S = ( (Sa)**2 + (Sb)**2 )**(1/2)\n",
    "print('Sa={}\\nSb={}\\nS={}'.format(Sa, Sb, S))"
   ]
  },
  {
   "cell_type": "markdown",
   "metadata": {},
   "source": [
    "#### 1.2.4 D"
   ]
  },
  {
   "cell_type": "code",
   "execution_count": 10,
   "metadata": {},
   "outputs": [
    {
     "name": "stdout",
     "output_type": "stream",
     "text": [
      "0.0295309709437441 0\n",
      "Sa=0.00348025830155740\n",
      "Sb=0.00170497140238016\n",
      "S=0.00387545162897092\n"
     ]
    }
   ],
   "source": [
    "F_DC = omg*C0*R0s\n",
    "F_DC_R0, F_DC_R4 = tuple(sp.diff(F_DC, i).evalf(subs = subs) for i in ['R0s', 'R4s'])  \n",
    "print(F_DC_R0, F_DC_R4)\n",
    "\n",
    "# S\n",
    "Sa = ( (SR0*F_DC_R0)**2 + (SR4*F_DC_R4)**2 )**(1/2)\n",
    "u = 0.1/(3**(1/2)) \n",
    "Sb = ( (u*F_DC_R0)**2 + (u*F_DC_R4)**2 )**(1/2)\n",
    "S = ( (Sa)**2 + (Sb)**2 )**(1/2)\n",
    "print('Sa={}\\nSb={}\\nS={}'.format(Sa, Sb, S))"
   ]
  },
  {
   "cell_type": "markdown",
   "metadata": {},
   "source": [
    "## L"
   ]
  },
  {
   "cell_type": "code",
   "execution_count": 11,
   "metadata": {},
   "outputs": [],
   "source": [
    "dfl = pd.read_csv('B6-Data/L.csv')\n",
    "omg = 10000*2*np.pi\n",
    "C0 = 0.47e-6\n",
    "R3 = 510"
   ]
  },
  {
   "cell_type": "code",
   "execution_count": 12,
   "metadata": {},
   "outputs": [
    {
     "name": "stdout",
     "output_type": "stream",
     "text": [
      "419.96000000000004 82.42\n",
      "0.08432740427116397 2.4462215762273063\n"
     ]
    }
   ],
   "source": [
    "dfl.describe()\n",
    "R0, R2 = tuple((dfl.describe().loc['mean'])[:2])\n",
    "SR0, SR2 = tuple((dfl.describe().loc['std'])[:2])\n",
    "print(R0, R2)\n",
    "print(SR0, SR2)"
   ]
  },
  {
   "cell_type": "markdown",
   "metadata": {},
   "source": [
    "### 2.1 L, R, Z, Q"
   ]
  },
  {
   "cell_type": "code",
   "execution_count": 13,
   "metadata": {},
   "outputs": [
    {
     "name": "stdout",
     "output_type": "stream",
     "text": [
      "0.019756074000000002 100.09096104390893 1245.3395323569212 12.401826557534754\n"
     ]
    }
   ],
   "source": [
    "## exp\n",
    "L = (C0*R3)*R2\n",
    "RL = R3*(R2/R0)\n",
    "ZL = ( ((omg*L)**2 + (RL)**2 )**(1/2) )\n",
    "QL = omg*C0*R0\n",
    "print(L, RL, ZL, QL)\n",
    "\n",
    "## Dig\n",
    "L_dig = 19.892e-3\n",
    "RL_dig = 133.87\n",
    "ZL_dig = 1257.0\n",
    "QL_dig = 9.3062\n",
    "\n",
    "## Sim\n",
    "dfL_sim = pd.read_csv('B6-Data/L_simu.csv')\n",
    "L_sim = (C0*R3)*dfL_sim.at[0,'R2']\n",
    "RL_sim = R3*dfL_sim.at[0,'R2']/dfL_sim.at[0,'R0']\n",
    "ZL_sim = ( ((omg*L_sim))**2 + (RL_sim**2 ))**(1/2)\n",
    "QL_sim = omg*C0*dfL_sim.at[0,'R0']"
   ]
  },
  {
   "cell_type": "code",
   "execution_count": 14,
   "metadata": {},
   "outputs": [
    {
     "data": {
      "text/html": [
       "<div>\n",
       "<style scoped>\n",
       "    .dataframe tbody tr th:only-of-type {\n",
       "        vertical-align: middle;\n",
       "    }\n",
       "\n",
       "    .dataframe tbody tr th {\n",
       "        vertical-align: top;\n",
       "    }\n",
       "\n",
       "    .dataframe thead th {\n",
       "        text-align: right;\n",
       "    }\n",
       "</style>\n",
       "<table border=\"1\" class=\"dataframe\">\n",
       "  <thead>\n",
       "    <tr style=\"text-align: right;\">\n",
       "      <th></th>\n",
       "      <th>L</th>\n",
       "      <th>RL</th>\n",
       "      <th>ZL</th>\n",
       "      <th>QL</th>\n",
       "    </tr>\n",
       "  </thead>\n",
       "  <tbody>\n",
       "    <tr>\n",
       "      <th>exp</th>\n",
       "      <td>0.019756</td>\n",
       "      <td>100.090961</td>\n",
       "      <td>1245.339532</td>\n",
       "      <td>12.401827</td>\n",
       "    </tr>\n",
       "    <tr>\n",
       "      <th>dig</th>\n",
       "      <td>0.019892</td>\n",
       "      <td>133.870000</td>\n",
       "      <td>1257.000000</td>\n",
       "      <td>9.306200</td>\n",
       "    </tr>\n",
       "    <tr>\n",
       "      <th>sim</th>\n",
       "      <td>0.019991</td>\n",
       "      <td>100.009405</td>\n",
       "      <td>1260.045446</td>\n",
       "      <td>12.559522</td>\n",
       "    </tr>\n",
       "    <tr>\n",
       "      <th>exp_dig</th>\n",
       "      <td>0.006880</td>\n",
       "      <td>0.337483</td>\n",
       "      <td>0.009363</td>\n",
       "      <td>-0.249611</td>\n",
       "    </tr>\n",
       "    <tr>\n",
       "      <th>exp_sim</th>\n",
       "      <td>0.011890</td>\n",
       "      <td>-0.000815</td>\n",
       "      <td>0.011809</td>\n",
       "      <td>0.012715</td>\n",
       "    </tr>\n",
       "  </tbody>\n",
       "</table>\n",
       "</div>"
      ],
      "text/plain": [
       "                L          RL           ZL         QL\n",
       "exp      0.019756  100.090961  1245.339532  12.401827\n",
       "dig      0.019892  133.870000  1257.000000   9.306200\n",
       "sim      0.019991  100.009405  1260.045446  12.559522\n",
       "exp_dig  0.006880    0.337483     0.009363  -0.249611\n",
       "exp_sim  0.011890   -0.000815     0.011809   0.012715"
      ]
     },
     "execution_count": 14,
     "metadata": {},
     "output_type": "execute_result"
    }
   ],
   "source": [
    "L_par = pd.DataFrame({'L':[L, L_dig, L_sim], \n",
    "                    'RL':[RL, RL_dig, RL_sim], \n",
    "                    'ZL':[ZL, ZL_dig, ZL_sim],\n",
    "                    'QL':[QL, QL_dig, QL_sim]},\n",
    "                    index=['exp','dig','sim'])\n",
    "L_par.loc['exp_dig',] = (L_par.loc['dig',]-L_par.loc['exp',])/L_par.loc['exp',]  \n",
    "L_par.loc['exp_sim',] = (L_par.loc['sim',]-L_par.loc['exp',])/L_par.loc['exp',]\n",
    "L_par.loc['exp_sim',] = (L_par.loc['sim',]-L_par.loc['exp',])/L_par.loc['exp',]       \n",
    "L_par"
   ]
  },
  {
   "cell_type": "markdown",
   "metadata": {},
   "source": [
    "### 2.2 Uncertainty"
   ]
  },
  {
   "cell_type": "code",
   "execution_count": 15,
   "metadata": {},
   "outputs": [],
   "source": [
    "R0s, R2s = sp.symbols('R0s R2s') \n",
    "subs = {'R0s':R0, 'R2s':R2} "
   ]
  },
  {
   "cell_type": "code",
   "execution_count": 16,
   "metadata": {},
   "outputs": [
    {
     "name": "stdout",
     "output_type": "stream",
     "text": [
      "0 0.000239700000000000\n",
      "Sa=0.000586359311821685\n",
      "Sb=0.0000138390859524753\n",
      "S=0.000586522602173182\n"
     ]
    }
   ],
   "source": [
    "F_L = (C0*R3)*R2s\n",
    "F_L_R0, F_L_R2 = tuple(sp.diff(F_L, i).evalf(subs = subs) for i in ['R0s', 'R2s'])  \n",
    "print(F_L_R0, F_L_R2)\n",
    "\n",
    "# S\n",
    "Sa = ( (SR0*F_L_R0)**2 + (SR2*F_L_R2)**2 )**(1/2)\n",
    "u = 0.1/(3**(1/2)) \n",
    "Sb = ( (u*F_L_R0)**2 + (u*F_L_R2)**2 )**(1/2)\n",
    "S = ( (Sa)**2 + (Sb)**2 )**(1/2)\n",
    "print('Sa={}\\nSb={}\\nS={}'.format(Sa, Sb, S))"
   ]
  },
  {
   "cell_type": "code",
   "execution_count": 17,
   "metadata": {},
   "outputs": [
    {
     "name": "stdout",
     "output_type": "stream",
     "text": [
      "-0.238334510534120 1.21440137155920\n",
      "Sa=2.97076282312535\n",
      "Sb=0.0714510095603133\n",
      "S=2.97162194735988\n"
     ]
    }
   ],
   "source": [
    "F_RL = R3*(R2s/R0s)\n",
    "F_RL_R0, F_RL_R2 = tuple(sp.diff(F_RL, i).evalf(subs = subs) for i in ['R0s', 'R2s'])  \n",
    "print(F_RL_R0, F_RL_R2)\n",
    "\n",
    "# S\n",
    "Sa = ( (SR0*F_RL_R0)**2 + (SR2*F_RL_R2)**2 )**(1/2)\n",
    "u = 0.1/(3**(1/2)) \n",
    "Sb = ( (u*F_RL_R0)**2 + (u*F_RL_R2)**2 )**(1/2)\n",
    "S = ( (Sa)**2 + (Sb)**2 )**(1/2)\n",
    "print('Sa={}\\nSb={}\\nS={}'.format(Sa, Sb, S))"
   ]
  },
  {
   "cell_type": "code",
   "execution_count": 18,
   "metadata": {},
   "outputs": [
    {
     "name": "stdout",
     "output_type": "stream",
     "text": [
      "-0.0191555231239963 15.1096764420883\n",
      "Sa=36.9616165577475\n",
      "Sb=0.872358277159611\n",
      "S=36.9719097089355\n"
     ]
    }
   ],
   "source": [
    "F_ZL = ( ((omg*(C0*R3)*R2s)**2 + (R3*(R2s/R0s))**2 )**(1/2) )\n",
    "F_ZL_R0, F_ZL_R2 = tuple(sp.diff(F_ZL, i).evalf(subs = subs) for i in ['R0s', 'R2s'])  \n",
    "print(F_ZL_R0, F_ZL_R2)\n",
    "\n",
    "# S\n",
    "Sa = ( (SR0*F_ZL_R0)**2 + (SR2*F_ZL_R2)**2 )**(1/2)\n",
    "u = 0.1/(3**(1/2)) \n",
    "Sb = ( (u*F_ZL_R0)**2 + (u*F_ZL_R2)**2 )**(1/2)\n",
    "S = ( (Sa)**2 + (Sb)**2 )**(1/2)\n",
    "print('Sa={}\\nSb={}\\nS={}'.format(Sa, Sb, S))"
   ]
  },
  {
   "cell_type": "code",
   "execution_count": 19,
   "metadata": {},
   "outputs": [
    {
     "name": "stdout",
     "output_type": "stream",
     "text": [
      "0.0295309709437441 0\n",
      "Sa=0.00249027012529310\n",
      "Sb=0.00170497140238016\n",
      "S=0.00301800808147717\n"
     ]
    }
   ],
   "source": [
    "F_DL = omg*C0*R0s\n",
    "F_DL_R0, F_DL_R2 = tuple(sp.diff(F_DL, i).evalf(subs = subs) for i in ['R0s', 'R2s'])  \n",
    "print(F_DL_R0, F_DL_R2)\n",
    "\n",
    "# S\n",
    "Sa = ( (SR0*F_DL_R0)**2 + (SR2*F_DL_R2)**2 )**(1/2)\n",
    "u = 0.1/(3**(1/2)) \n",
    "Sb = ( (u*F_DL_R0)**2 + (u*F_DL_R2)**2 )**(1/2)\n",
    "S = ( (Sa)**2 + (Sb)**2 )**(1/2)\n",
    "print('Sa={}\\nSb={}\\nS={}'.format(Sa, Sb, S))"
   ]
  }
 ],
 "metadata": {
  "interpreter": {
   "hash": "af98b5f27ca83b05aed41da488c774428a0f9deb192455b0a9a2771786fb6f4a"
  },
  "kernelspec": {
   "display_name": "Python 3.8.8 64-bit ('base': conda)",
   "language": "python",
   "name": "python3"
  },
  "language_info": {
   "codemirror_mode": {
    "name": "ipython",
    "version": 3
   },
   "file_extension": ".py",
   "mimetype": "text/x-python",
   "name": "python",
   "nbconvert_exporter": "python",
   "pygments_lexer": "ipython3",
   "version": "3.8.8"
  },
  "orig_nbformat": 4
 },
 "nbformat": 4,
 "nbformat_minor": 2
}
