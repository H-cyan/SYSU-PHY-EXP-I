{
 "metadata": {
  "language_info": {
   "codemirror_mode": {
    "name": "ipython",
    "version": 3
   },
   "file_extension": ".py",
   "mimetype": "text/x-python",
   "name": "python",
   "nbconvert_exporter": "python",
   "pygments_lexer": "ipython3",
   "version": 3
  },
  "orig_nbformat": 2,
  "kernelspec": {
   "name": "python3810jvsc74a57bd0b3ba2566441a7c06988d0923437866b63cedc61552a5af99d1f4fb67d367b25f",
   "display_name": "R",
   "language": "R"
  }
 },
 "nbformat": 4,
 "nbformat_minor": 2,
 "cells": [
  {
   "source": [
    "# A3 Giant magnetoresistance EXP 4\n",
    "by H cyan\n",
    "\n",
    "huangzw29@mail2.sysu.edu.cn\n",
    "\n",
    "2021.6.2"
   ],
   "cell_type": "markdown",
   "metadata": {}
  },
  {
   "source": [
    "***Select R kernel***"
   ],
   "cell_type": "markdown",
   "metadata": {}
  },
  {
   "cell_type": "code",
   "execution_count": 40,
   "metadata": {},
   "outputs": [
    {
     "output_type": "display_data",
     "data": {
      "text/html": "<table>\n<thead><tr><th scope=col>I</th><th scope=col>U</th><th scope=col>B</th><th scope=col>dir</th></tr></thead>\n<tbody>\n\t<tr><td> 300  </td><td> 27   </td><td>Week  </td><td>up    </td></tr>\n\t<tr><td> 200  </td><td> 26   </td><td>Week  </td><td>up    </td></tr>\n\t<tr><td> 100  </td><td> 25   </td><td>Week  </td><td>up    </td></tr>\n\t<tr><td>   0  </td><td> 25   </td><td>Week  </td><td>up    </td></tr>\n\t<tr><td>-100  </td><td> 24   </td><td>Week  </td><td>up    </td></tr>\n\t<tr><td>-200  </td><td> 23   </td><td>Week  </td><td>up    </td></tr>\n\t<tr><td>-300  </td><td> 23   </td><td>Week  </td><td>up    </td></tr>\n\t<tr><td> 300  </td><td> 27   </td><td>Week  </td><td>down  </td></tr>\n\t<tr><td> 200  </td><td> 26   </td><td>Week  </td><td>down  </td></tr>\n\t<tr><td> 100  </td><td> 25   </td><td>Week  </td><td>down  </td></tr>\n\t<tr><td>   0  </td><td> 25   </td><td>Week  </td><td>down  </td></tr>\n\t<tr><td>-100  </td><td> 24   </td><td>Week  </td><td>down  </td></tr>\n\t<tr><td>-200  </td><td> 24   </td><td>Week  </td><td>down  </td></tr>\n\t<tr><td>-300  </td><td> 23   </td><td>Week  </td><td>down  </td></tr>\n\t<tr><td> 300  </td><td>102   </td><td>Strong</td><td>up    </td></tr>\n\t<tr><td> 200  </td><td>101   </td><td>Strong</td><td>up    </td></tr>\n\t<tr><td> 100  </td><td>101   </td><td>Strong</td><td>up    </td></tr>\n\t<tr><td>   0  </td><td>100   </td><td>Strong</td><td>up    </td></tr>\n\t<tr><td>-100  </td><td> 99   </td><td>Strong</td><td>up    </td></tr>\n\t<tr><td>-200  </td><td> 98   </td><td>Strong</td><td>up    </td></tr>\n\t<tr><td>-300  </td><td> 97   </td><td>Strong</td><td>up    </td></tr>\n\t<tr><td> 300  </td><td>103   </td><td>Strong</td><td>down  </td></tr>\n\t<tr><td> 200  </td><td>102   </td><td>Strong</td><td>down  </td></tr>\n\t<tr><td> 100  </td><td>101   </td><td>Strong</td><td>down  </td></tr>\n\t<tr><td>   0  </td><td>100   </td><td>Strong</td><td>down  </td></tr>\n\t<tr><td>-100  </td><td>100   </td><td>Strong</td><td>down  </td></tr>\n\t<tr><td>-200  </td><td> 99   </td><td>Strong</td><td>down  </td></tr>\n\t<tr><td>-300  </td><td> 97   </td><td>Strong</td><td>down  </td></tr>\n</tbody>\n</table>\n",
      "text/markdown": "\n| I | U | B | dir |\n|---|---|---|---|\n|  300   |  27    | Week   | up     |\n|  200   |  26    | Week   | up     |\n|  100   |  25    | Week   | up     |\n|    0   |  25    | Week   | up     |\n| -100   |  24    | Week   | up     |\n| -200   |  23    | Week   | up     |\n| -300   |  23    | Week   | up     |\n|  300   |  27    | Week   | down   |\n|  200   |  26    | Week   | down   |\n|  100   |  25    | Week   | down   |\n|    0   |  25    | Week   | down   |\n| -100   |  24    | Week   | down   |\n| -200   |  24    | Week   | down   |\n| -300   |  23    | Week   | down   |\n|  300   | 102    | Strong | up     |\n|  200   | 101    | Strong | up     |\n|  100   | 101    | Strong | up     |\n|    0   | 100    | Strong | up     |\n| -100   |  99    | Strong | up     |\n| -200   |  98    | Strong | up     |\n| -300   |  97    | Strong | up     |\n|  300   | 103    | Strong | down   |\n|  200   | 102    | Strong | down   |\n|  100   | 101    | Strong | down   |\n|    0   | 100    | Strong | down   |\n| -100   | 100    | Strong | down   |\n| -200   |  99    | Strong | down   |\n| -300   |  97    | Strong | down   |\n\n",
      "text/latex": "\\begin{tabular}{r|llll}\n I & U & B & dir\\\\\n\\hline\n\t  300   &  27    & Week   & up    \\\\\n\t  200   &  26    & Week   & up    \\\\\n\t  100   &  25    & Week   & up    \\\\\n\t    0   &  25    & Week   & up    \\\\\n\t -100   &  24    & Week   & up    \\\\\n\t -200   &  23    & Week   & up    \\\\\n\t -300   &  23    & Week   & up    \\\\\n\t  300   &  27    & Week   & down  \\\\\n\t  200   &  26    & Week   & down  \\\\\n\t  100   &  25    & Week   & down  \\\\\n\t    0   &  25    & Week   & down  \\\\\n\t -100   &  24    & Week   & down  \\\\\n\t -200   &  24    & Week   & down  \\\\\n\t -300   &  23    & Week   & down  \\\\\n\t  300   & 102    & Strong & up    \\\\\n\t  200   & 101    & Strong & up    \\\\\n\t  100   & 101    & Strong & up    \\\\\n\t    0   & 100    & Strong & up    \\\\\n\t -100   &  99    & Strong & up    \\\\\n\t -200   &  98    & Strong & up    \\\\\n\t -300   &  97    & Strong & up    \\\\\n\t  300   & 103    & Strong & down  \\\\\n\t  200   & 102    & Strong & down  \\\\\n\t  100   & 101    & Strong & down  \\\\\n\t    0   & 100    & Strong & down  \\\\\n\t -100   & 100    & Strong & down  \\\\\n\t -200   &  99    & Strong & down  \\\\\n\t -300   &  97    & Strong & down  \\\\\n\\end{tabular}\n",
      "text/plain": "   I    U   B      dir \n1   300  27 Week   up  \n2   200  26 Week   up  \n3   100  25 Week   up  \n4     0  25 Week   up  \n5  -100  24 Week   up  \n6  -200  23 Week   up  \n7  -300  23 Week   up  \n8   300  27 Week   down\n9   200  26 Week   down\n10  100  25 Week   down\n11    0  25 Week   down\n12 -100  24 Week   down\n13 -200  24 Week   down\n14 -300  23 Week   down\n15  300 102 Strong up  \n16  200 101 Strong up  \n17  100 101 Strong up  \n18    0 100 Strong up  \n19 -100  99 Strong up  \n20 -200  98 Strong up  \n21 -300  97 Strong up  \n22  300 103 Strong down\n23  200 102 Strong down\n24  100 101 Strong down\n25    0 100 Strong down\n26 -100 100 Strong down\n27 -200  99 Strong down\n28 -300  97 Strong down"
     },
     "metadata": {}
    },
    {
     "output_type": "stream",
     "name": "stdout",
     "text": [
      "'data.frame':\t28 obs. of  4 variables:\n $ I  : int  300 200 100 0 -100 -200 -300 300 200 100 ...\n $ U  : int  27 26 25 25 24 23 23 27 26 25 ...\n $ B  : Factor w/ 2 levels \"Week\",\"Strong\": 1 1 1 1 1 1 1 1 1 1 ...\n $ dir: Factor w/ 2 levels \"down\",\"up\": 2 2 2 2 2 2 2 1 1 1 ...\n"
     ]
    }
   ],
   "source": [
    "df <- read.csv('A3 data/EXP4_r.csv')\n",
    "df$B<-factor(df$B, levels = c('low', 'high'), labels = c('Week', 'Strong'))\n",
    "df\n",
    "str(df)"
   ]
  },
  {
   "cell_type": "code",
   "execution_count": 47,
   "metadata": {},
   "outputs": [
    {
     "output_type": "stream",
     "name": "stderr",
     "text": [
      "Saving 6.67 x 6.67 in image\n"
     ]
    },
    {
     "output_type": "display_data",
     "data": {
      "text/plain": "plot without title",
      "image/png": "[encoded data removed]"
     },
     "metadata": {}
    }
   ],
   "source": [
    "library(ggplot2)\n",
    "p <- ggplot(data = df, mapping = aes(x = I, y = U, color = B, shape = dir))+\n",
    "    geom_point()+\n",
    "    geom_line()+\n",
    "    coord_fixed(ratio=3)+\n",
    "    scale_x_continuous(breaks=I)+\n",
    "    scale_color_manual(values = c(\"#60c5ba\",\"#ef5285\"))+\n",
    "    scale_shape_manual(values = c(4, 19))+\n",
    "    labs(title = 'Fig. 4 Measure current with GMR sensor',\n",
    "      x = 'Current I/mA',\n",
    "      y = 'Output Voltage U/mV',\n",
    "      color = 'Magnetic field',\n",
    "      shape = 'Current changing')+\n",
    "      theme_bw()+\n",
    "    theme(legend.position = \"bottom\", plot.title = element_text(hjust = 0.5))\n",
    "    \n",
    "p\n",
    "ggsave('fig. 4r.png', dpi=600)  \n"
   ]
  },
  {
   "cell_type": "code",
   "execution_count": null,
   "metadata": {},
   "outputs": [],
   "source": []
  },
  {
   "cell_type": "code",
   "execution_count": null,
   "metadata": {},
   "outputs": [],
   "source": []
  },
  {
   "cell_type": "code",
   "execution_count": null,
   "metadata": {},
   "outputs": [],
   "source": []
  },
  {
   "cell_type": "code",
   "execution_count": null,
   "metadata": {},
   "outputs": [],
   "source": []
  },
  {
   "cell_type": "code",
   "execution_count": null,
   "metadata": {},
   "outputs": [],
   "source": []
  },
  {
   "cell_type": "code",
   "execution_count": null,
   "metadata": {},
   "outputs": [],
   "source": []
  }
 ]
}