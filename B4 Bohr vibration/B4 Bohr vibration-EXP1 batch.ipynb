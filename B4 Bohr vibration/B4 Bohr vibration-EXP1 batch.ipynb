{
 "metadata": {
  "language_info": {
   "codemirror_mode": {
    "name": "ipython",
    "version": 3
   },
   "file_extension": ".py",
   "mimetype": "text/x-python",
   "name": "python",
   "nbconvert_exporter": "python",
   "pygments_lexer": "ipython3",
   "version": "3.8.5"
  },
  "orig_nbformat": 2,
  "kernelspec": {
   "name": "python385jvsc74a57bd0b3ba2566441a7c06988d0923437866b63cedc61552a5af99d1f4fb67d367b25f",
   "display_name": "Python 3.8.5 64-bit ('base': conda)"
  }
 },
 "nbformat": 4,
 "nbformat_minor": 2,
 "cells": [
  {
   "source": [
    "# B4 Bohr vibration-EXP1 batch\n",
    "by H cyan\n",
    "\n",
    "huangzw29@mail2.sysu.edu.cn\n",
    "\n",
    "2021.5.9"
   ],
   "cell_type": "markdown",
   "metadata": {}
  },
  {
   "cell_type": "code",
   "execution_count": 1,
   "metadata": {},
   "outputs": [],
   "source": [
    "import glob,os\n",
    "\n",
    "import numpy as np\n",
    "import pandas as pd\n",
    "import matplotlib.pyplot as plt\n",
    "from scipy.fftpack import fft, fftfreq"
   ]
  },
  {
   "cell_type": "code",
   "execution_count": 2,
   "metadata": {
    "tags": []
   },
   "outputs": [
    {
     "output_type": "stream",
     "name": "stdout",
     "text": [
      "['B4 data\\\\EXP1\\\\Damp14V Drive7V\\\\1.05khz.txt', 'B4 data\\\\EXP1\\\\Damp14V Drive7V\\\\1khz.txt', 'B4 data\\\\EXP1\\\\Damp14V Drive7V\\\\990hz.txt', 'B4 data\\\\EXP1\\\\Damp14V Drive7V\\\\995hz.txt']\n[      时间2 (秒 s)  角2 (弧度 rad)  角速度2 (弧度/秒 rad/s)  角加速度2 (弧度/秒² rad/s²)  \\\n0          0.00          0.0                NaN                   NaN   \n1          0.01          0.0                0.0                   NaN   \n2          0.02          0.0                0.0                   0.0   \n3          0.03          0.0                0.0                   0.0   \n4          0.04          0.0                0.0                   0.0   \n...         ...          ...                ...                   ...   \n4019      40.19          0.0                0.0                   0.0   \n4020      40.20          0.0                0.0                   0.0   \n4021      40.21          0.0                0.0                   0.0   \n4022      40.22          0.0                0.0                   0.0   \n4023      40.23          0.0                0.0                   NaN   \n\n      位置2 (米 m)  速度2 (米/秒 m/s)  加速度2 (米/秒² m/s²)  时间 (秒 s)  角 (弧度 rad)  \\\n0           0.0            NaN               NaN      0.00         0.0   \n1           0.0            0.0               NaN      0.01         0.0   \n2           0.0            0.0               0.0      0.02         0.0   \n3           0.0            0.0               0.0      0.03         0.0   \n4           0.0            0.0               0.0      0.04         0.0   \n...         ...            ...               ...       ...         ...   \n4019        0.0            0.0               0.0       NaN         NaN   \n4020        0.0            0.0               0.0       NaN         NaN   \n4021        0.0            0.0               0.0       NaN         NaN   \n4022        0.0            0.0               0.0       NaN         NaN   \n4023        0.0            0.0               NaN       NaN         NaN   \n\n      角速度 (弧度/秒 rad/s)  ...  位置 (米 m)  速度 (米/秒 m/s)  加速度 (米/秒² m/s²)  \\\n0                  NaN  ...       0.0           NaN              NaN   \n1                  0.0  ...       0.0           0.0              NaN   \n2                  0.0  ...       0.0           0.0            0.000   \n3                  0.0  ...       0.0           0.0            0.000   \n4                  0.0  ...       0.0           0.0            1.042   \n...                ...  ...       ...           ...              ...   \n4019               NaN  ...       NaN           NaN              NaN   \n4020               NaN  ...       NaN           NaN              NaN   \n4021               NaN  ...       NaN           NaN              NaN   \n4022               NaN  ...       NaN           NaN              NaN   \n4023               NaN  ...       NaN           NaN              NaN   \n\n      时间 (秒 s).1  角 (弧度 rad).1  角速度 (弧度/秒 rad/s).1  角加速度 (弧度/秒² rad/s²).1  \\\n0           0.00         0.000                 NaN                    NaN   \n1           0.01         0.000               0.000                    NaN   \n2           0.02         0.000               0.873                 43.633   \n3           0.03         0.017               0.873                -43.633   \n4           0.04         0.017               0.000                -43.633   \n...          ...           ...                 ...                    ...   \n4019         NaN           NaN                 NaN                    NaN   \n4020         NaN           NaN                 NaN                    NaN   \n4021         NaN           NaN                 NaN                    NaN   \n4022         NaN           NaN                 NaN                    NaN   \n4023         NaN           NaN                 NaN                    NaN   \n\n      位置 (米 m).1  速度 (米/秒 m/s).1  加速度 (米/秒² m/s²).1  \n0       0.000000             NaN                NaN  \n1       0.000000           0.000                NaN  \n2       0.000000           0.021              1.042  \n3       0.000417           0.021             -1.042  \n4       0.000417           0.000             -1.042  \n...          ...             ...                ...  \n4019         NaN             NaN                NaN  \n4020         NaN             NaN                NaN  \n4021         NaN             NaN                NaN  \n4022         NaN             NaN                NaN  \n4023         NaN             NaN                NaN  \n\n[4024 rows x 21 columns],       时间2 (秒 s)  角2 (弧度 rad)  角速度2 (弧度/秒 rad/s)  角加速度2 (弧度/秒² rad/s²)  \\\n0          0.00          0.0                NaN                   NaN   \n1          0.01          0.0                0.0                   NaN   \n2          0.02          0.0                0.0                   0.0   \n3          0.03          0.0                0.0                   0.0   \n4          0.04          0.0                0.0                   0.0   \n...         ...          ...                ...                   ...   \n5484        NaN          NaN                NaN                   NaN   \n5485        NaN          NaN                NaN                   NaN   \n5486        NaN          NaN                NaN                   NaN   \n5487        NaN          NaN                NaN                   NaN   \n5488        NaN          NaN                NaN                   NaN   \n\n      位置2 (米 m)  速度2 (米/秒 m/s)  加速度2 (米/秒² m/s²)  时间 (秒 s)  角 (弧度 rad)  \\\n0           0.0            NaN               NaN      0.00       0.000   \n1           0.0            0.0               NaN      0.01       0.000   \n2           0.0            0.0               0.0      0.02       0.017   \n3           0.0            0.0               0.0      0.03       0.017   \n4           0.0            0.0               0.0      0.04       0.017   \n...         ...            ...               ...       ...         ...   \n5484        NaN            NaN               NaN     54.84      -0.105   \n5485        NaN            NaN               NaN     54.85      -0.105   \n5486        NaN            NaN               NaN     54.86      -0.122   \n5487        NaN            NaN               NaN     54.87      -0.122   \n5488        NaN            NaN               NaN     54.88      -0.122   \n\n      角速度 (弧度/秒 rad/s)  角加速度 (弧度/秒² rad/s²)  位置 (米 m)  速度 (米/秒 m/s)  \\\n0                  NaN                  NaN  0.000000           NaN   \n1                0.873                  NaN  0.000000         0.021   \n2                0.873        -4.363300e+01  0.000417         0.021   \n3                0.000        -1.665000e-14  0.000417         0.000   \n4                0.873         4.363300e+01  0.000417         0.021   \n...                ...                  ...       ...           ...   \n5484             0.000        -1.547000e-11 -0.002500         0.000   \n5485            -0.873        -4.363300e+01 -0.002500        -0.021   \n5486            -0.873         4.363300e+01 -0.002900        -0.021   \n5487             0.000        -1.550000e-11 -0.002900         0.000   \n5488            -0.873                  NaN -0.002900        -0.021   \n\n      加速度 (米/秒² m/s²)  \n0                 NaN  \n1                 NaN  \n2       -1.042000e+00  \n3       -3.469000e-16  \n4        1.042000e+00  \n...               ...  \n5484    -3.711000e-13  \n5485    -1.042000e+00  \n5486     1.042000e+00  \n5487    -3.700000e-13  \n5488              NaN  \n\n[5489 rows x 14 columns],       时间2 (秒 s)  角2 (弧度 rad)  角速度2 (弧度/秒 rad/s)  角加速度2 (弧度/秒² rad/s²)  \\\n0          0.00          0.0                NaN                   NaN   \n1          0.01          0.0                0.0                   NaN   \n2          0.02          0.0                0.0                   0.0   \n3          0.03          0.0                0.0                   0.0   \n4          0.04          0.0                0.0                   0.0   \n...         ...          ...                ...                   ...   \n4019      40.19          0.0                0.0                   0.0   \n4020      40.20          0.0                0.0                   0.0   \n4021      40.21          0.0                0.0                   0.0   \n4022      40.22          0.0                0.0                   0.0   \n4023      40.23          0.0                0.0                   NaN   \n\n      位置2 (米 m)  速度2 (米/秒 m/s)  加速度2 (米/秒² m/s²)  时间 (秒 s)  角 (弧度 rad)  \\\n0           0.0            NaN               NaN      0.00         0.0   \n1           0.0            0.0               NaN      0.01         0.0   \n2           0.0            0.0               0.0      0.02         0.0   \n3           0.0            0.0               0.0      0.03         0.0   \n4           0.0            0.0               0.0      0.04         0.0   \n...         ...            ...               ...       ...         ...   \n4019        0.0            0.0               0.0       NaN         NaN   \n4020        0.0            0.0               0.0       NaN         NaN   \n4021        0.0            0.0               0.0       NaN         NaN   \n4022        0.0            0.0               0.0       NaN         NaN   \n4023        0.0            0.0               NaN       NaN         NaN   \n\n      角速度 (弧度/秒 rad/s)  角加速度 (弧度/秒² rad/s²)  位置 (米 m)  速度 (米/秒 m/s)  \\\n0                  NaN                  NaN       0.0           NaN   \n1                  0.0                  NaN       0.0           0.0   \n2                  0.0                0.000       0.0           0.0   \n3                  0.0                0.000       0.0           0.0   \n4                  0.0               43.633       0.0           0.0   \n...                ...                  ...       ...           ...   \n4019               NaN                  NaN       NaN           NaN   \n4020               NaN                  NaN       NaN           NaN   \n4021               NaN                  NaN       NaN           NaN   \n4022               NaN                  NaN       NaN           NaN   \n4023               NaN                  NaN       NaN           NaN   \n\n      加速度 (米/秒² m/s²)  \n0                 NaN  \n1                 NaN  \n2               0.000  \n3               0.000  \n4               1.042  \n...               ...  \n4019              NaN  \n4020              NaN  \n4021              NaN  \n4022              NaN  \n4023              NaN  \n\n[4024 rows x 14 columns],       时间2 (秒 s)  角2 (弧度 rad)  角速度2 (弧度/秒 rad/s)  角加速度2 (弧度/秒² rad/s²)  \\\n0          0.00          0.0                NaN                   NaN   \n1          0.01          0.0                0.0                   NaN   \n2          0.02          0.0                0.0                   0.0   \n3          0.03          0.0                0.0                   0.0   \n4          0.04          0.0                0.0                   0.0   \n...         ...          ...                ...                   ...   \n4019      40.19          0.0                0.0                   0.0   \n4020      40.20          0.0                0.0                   0.0   \n4021      40.21          0.0                0.0                   0.0   \n4022      40.22          0.0                0.0                   0.0   \n4023      40.23          0.0                0.0                   NaN   \n\n      位置2 (米 m)  速度2 (米/秒 m/s)  加速度2 (米/秒² m/s²)  时间 (秒 s)  角 (弧度 rad)  \\\n0           0.0            NaN               NaN      0.00         0.0   \n1           0.0            0.0               NaN      0.01         0.0   \n2           0.0            0.0               0.0      0.02         0.0   \n3           0.0            0.0               0.0      0.03         0.0   \n4           0.0            0.0               0.0      0.04         0.0   \n...         ...            ...               ...       ...         ...   \n4019        0.0            0.0               0.0       NaN         NaN   \n4020        0.0            0.0               0.0       NaN         NaN   \n4021        0.0            0.0               0.0       NaN         NaN   \n4022        0.0            0.0               0.0       NaN         NaN   \n4023        0.0            0.0               NaN       NaN         NaN   \n\n      角速度 (弧度/秒 rad/s)  角加速度 (弧度/秒² rad/s²)  位置 (米 m)  速度 (米/秒 m/s)  \\\n0                  NaN                  NaN       0.0           NaN   \n1                  0.0                  NaN       0.0           0.0   \n2                  0.0                0.000       0.0           0.0   \n3                  0.0                0.000       0.0           0.0   \n4                  0.0               43.633       0.0           0.0   \n...                ...                  ...       ...           ...   \n4019               NaN                  NaN       NaN           NaN   \n4020               NaN                  NaN       NaN           NaN   \n4021               NaN                  NaN       NaN           NaN   \n4022               NaN                  NaN       NaN           NaN   \n4023               NaN                  NaN       NaN           NaN   \n\n      加速度 (米/秒² m/s²)  \n0                 NaN  \n1                 NaN  \n2               0.000  \n3               0.000  \n4               1.042  \n...               ...  \n4019              NaN  \n4020              NaN  \n4021              NaN  \n4022              NaN  \n4023              NaN  \n\n[4024 rows x 14 columns]]\n"
     ]
    }
   ],
   "source": [
    "dfLIST = []\n",
    "path = r'B4 data\\EXP1\\Damp14V Drive7V'\n",
    "file = glob.glob(os.path.join(path, '**hz.txt'))\n",
    "print(file)\n",
    "for f in file:\n",
    "    dfLIST.append(pd.read_csv(f, sep='\\t'))\n",
    "print(dfLIST) "
   ]
  },
  {
   "cell_type": "code",
   "execution_count": 3,
   "metadata": {},
   "outputs": [],
   "source": [
    "def Spectrogram(df, idx):\n",
    "\n",
    "    # Processing\n",
    "    df = df.dropna()\n",
    "    df.drop(df.head(300).index, inplace=True)\n",
    "    # df.drop(df.tail(50).index, inplace=True)\n",
    "    df['时间2 (秒 s)'] = df['时间2 (秒 s)'] - df.iloc[0,0]\n",
    "    \n",
    "    # Original value\n",
    "    t_origin = np.array(df['时间2 (秒 s)'])\n",
    "    phi_origin = np.array(df['角2 (弧度 rad)'])\n",
    "\n",
    "    ## Spectrogram\n",
    "\n",
    "    # Sampling rate\n",
    "    fs = 100\n",
    "\n",
    "    # signal\n",
    "    t = t_origin\n",
    "    N = len(t)\n",
    "    y = phi_origin\n",
    "\n",
    "    # fft\n",
    "    yf = fft(y)\n",
    "    xf = fftfreq(N, 1/fs)[:N//2]\n",
    "    yf_nor = 2.0/N * np.abs(yf[0:N//2]) # normalization\n",
    "\n",
    "    # plotting\n",
    "    fig, ax =  plt.subplots(2,1,figsize=(10, 10))\n",
    "\n",
    "    ax[0].plot(t, y, color='lightcoral')\n",
    "    ax[0].set_xlabel('time t/s')\n",
    "    ax[0].set_ylabel('angle phi/rad')\n",
    "    ax[0].set_title('Orginal curve.', y=-0.25)\n",
    "\n",
    "    ax[1].plot(xf[0:100], yf_nor[0:100], color='lightseagreen', label='Main frequency: {}'.format(xf[np.argmax(yf_nor)]))\n",
    "    ax[1].fill_between(xf[0:100], 0, yf_nor[0:100], facecolor='paleturquoise', interpolate=True, alpha = 0.5)\n",
    "    ax[1].set_xlabel('Frequency f/Hz)')\n",
    "    ax[1].set_ylabel('Amplitude A')\n",
    "    ax[1].set_title('Spectrogram of the Bohr vibration.', y=-0.25)\n",
    "    ax[1].legend()\n",
    "\n",
    "    plt.subplots_adjust(left=None, bottom=None, right=None, top=None, wspace=0.2, hspace=0.5)\n",
    "    DF_freq = [1050/1600, 1000/1600, 990/1600, 995/1600]\n",
    "    plt.suptitle('Fig. 1.{} Damped vibration of the Bohr pendulum. Freqency of the driving force={}Hz'.format(idx+3, DF_freq[idx]), y=0, fontsize=16)\n",
    "\n",
    "    # Output\n",
    "    plt.savefig(r'B4 output\\EXP1\\Spectrogram of forced vibration\\fig. 1.{}.png'.format(idx+3), bbox_inches = 'tight', dpi=600)\n",
    "    plt.clf()"
   ]
  },
  {
   "cell_type": "code",
   "execution_count": 4,
   "metadata": {},
   "outputs": [
    {
     "output_type": "stream",
     "name": "stderr",
     "text": [
      "C:\\ProgramData\\Anaconda3\\lib\\site-packages\\pandas\\core\\frame.py:4163: SettingWithCopyWarning: \n",
      "A value is trying to be set on a copy of a slice from a DataFrame\n",
      "\n",
      "See the caveats in the documentation: https://pandas.pydata.org/pandas-docs/stable/user_guide/indexing.html#returning-a-view-versus-a-copy\n",
      "  return super().drop(\n",
      "<ipython-input-3-5cb749203da4>:7: SettingWithCopyWarning: \n",
      "A value is trying to be set on a copy of a slice from a DataFrame.\n",
      "Try using .loc[row_indexer,col_indexer] = value instead\n",
      "\n",
      "See the caveats in the documentation: https://pandas.pydata.org/pandas-docs/stable/user_guide/indexing.html#returning-a-view-versus-a-copy\n",
      "  df['时间2 (秒 s)'] = df['时间2 (秒 s)'] - df.iloc[0,0]\n",
      "No handles with labels found to put in legend.\n",
      "C:\\ProgramData\\Anaconda3\\lib\\site-packages\\pandas\\core\\frame.py:4163: SettingWithCopyWarning: \n",
      "A value is trying to be set on a copy of a slice from a DataFrame\n",
      "\n",
      "See the caveats in the documentation: https://pandas.pydata.org/pandas-docs/stable/user_guide/indexing.html#returning-a-view-versus-a-copy\n",
      "  return super().drop(\n",
      "<ipython-input-3-5cb749203da4>:7: SettingWithCopyWarning: \n",
      "A value is trying to be set on a copy of a slice from a DataFrame.\n",
      "Try using .loc[row_indexer,col_indexer] = value instead\n",
      "\n",
      "See the caveats in the documentation: https://pandas.pydata.org/pandas-docs/stable/user_guide/indexing.html#returning-a-view-versus-a-copy\n",
      "  df['时间2 (秒 s)'] = df['时间2 (秒 s)'] - df.iloc[0,0]\n",
      "No handles with labels found to put in legend.\n",
      "C:\\ProgramData\\Anaconda3\\lib\\site-packages\\pandas\\core\\frame.py:4163: SettingWithCopyWarning: \n",
      "A value is trying to be set on a copy of a slice from a DataFrame\n",
      "\n",
      "See the caveats in the documentation: https://pandas.pydata.org/pandas-docs/stable/user_guide/indexing.html#returning-a-view-versus-a-copy\n",
      "  return super().drop(\n",
      "<ipython-input-3-5cb749203da4>:7: SettingWithCopyWarning: \n",
      "A value is trying to be set on a copy of a slice from a DataFrame.\n",
      "Try using .loc[row_indexer,col_indexer] = value instead\n",
      "\n",
      "See the caveats in the documentation: https://pandas.pydata.org/pandas-docs/stable/user_guide/indexing.html#returning-a-view-versus-a-copy\n",
      "  df['时间2 (秒 s)'] = df['时间2 (秒 s)'] - df.iloc[0,0]\n",
      "No handles with labels found to put in legend.\n",
      "C:\\ProgramData\\Anaconda3\\lib\\site-packages\\pandas\\core\\frame.py:4163: SettingWithCopyWarning: \n",
      "A value is trying to be set on a copy of a slice from a DataFrame\n",
      "\n",
      "See the caveats in the documentation: https://pandas.pydata.org/pandas-docs/stable/user_guide/indexing.html#returning-a-view-versus-a-copy\n",
      "  return super().drop(\n",
      "<ipython-input-3-5cb749203da4>:7: SettingWithCopyWarning: \n",
      "A value is trying to be set on a copy of a slice from a DataFrame.\n",
      "Try using .loc[row_indexer,col_indexer] = value instead\n",
      "\n",
      "See the caveats in the documentation: https://pandas.pydata.org/pandas-docs/stable/user_guide/indexing.html#returning-a-view-versus-a-copy\n",
      "  df['时间2 (秒 s)'] = df['时间2 (秒 s)'] - df.iloc[0,0]\n",
      "No handles with labels found to put in legend.\n"
     ]
    },
    {
     "output_type": "display_data",
     "data": {
      "text/plain": "<Figure size 720x720 with 0 Axes>"
     },
     "metadata": {}
    },
    {
     "output_type": "display_data",
     "data": {
      "text/plain": "<Figure size 720x720 with 0 Axes>"
     },
     "metadata": {}
    },
    {
     "output_type": "display_data",
     "data": {
      "text/plain": "<Figure size 720x720 with 0 Axes>"
     },
     "metadata": {}
    },
    {
     "output_type": "display_data",
     "data": {
      "text/plain": "<Figure size 720x720 with 0 Axes>"
     },
     "metadata": {}
    }
   ],
   "source": [
    "for idx in range(len(dfLIST)):\n",
    "    df = dfLIST[idx]\n",
    "    Spectrogram(df, idx)"
   ]
  },
  {
   "cell_type": "code",
   "execution_count": null,
   "metadata": {},
   "outputs": [],
   "source": []
  }
 ]
}