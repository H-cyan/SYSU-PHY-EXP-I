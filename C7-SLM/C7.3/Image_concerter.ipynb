{
 "cells": [
  {
   "cell_type": "markdown",
   "metadata": {},
   "source": [
    "# C7.2\n",
    "Jeg Vet\n",
    "\n",
    "huangzw29@mail2.sysu.edu.cn\n",
    "\n",
    "2022-04-04"
   ]
  },
  {
   "cell_type": "code",
   "execution_count": 1,
   "metadata": {},
   "outputs": [],
   "source": [
    "import numpy as np \n",
    "import pandas as pd\n",
    "import matplotlib.pyplot as plt\n",
    "import seaborn as sns\n",
    "import sympy as sp"
   ]
  },
  {
   "cell_type": "code",
   "execution_count": 2,
   "metadata": {},
   "outputs": [],
   "source": [
    "def Compress(from_folder, to_folder=\"newfolder\", from_type=None, jpg_q = 80, png_q=3, to_type=\"jpg\", verbose=False):\n",
    "    import os\n",
    "    import re\n",
    "    import time\n",
    "    import cv2\n",
    "    # Create new folder\n",
    "    os.makedirs(to_folder, exist_ok=True)\n",
    "    for root, dirs, files in os.walk(from_folder, topdown=False):\n",
    "        for dirname in dirs:\n",
    "            dirpath = root.replace(\"\\\\\", \"/\")+\"/\"+dirname\n",
    "            newdirpath = dirpath.replace(from_folder, to_folder)\n",
    "            os.makedirs(newdirpath, exist_ok=True)\n",
    "    \n",
    "    def compress(path, image, jpg_q=None, png_q=None):\n",
    "        '''\n",
    "        persist :image: object to disk. if path is given, load() first.\n",
    "        jpg_q: for jpeg only. 0 - 100 (higher means better). Default is 95.\n",
    "        png_q: For png only. 0 - 9 (higher means a smaller size and longer compression time).\n",
    "                        Default is 3.\n",
    "        '''\n",
    "        if jpg_q:\n",
    "            cv2.imwrite(path, image, [int(cv2.IMWRITE_JPEG_QUALITY), jpg_q])\n",
    "        elif png_q:\n",
    "            cv2.imwrite(path, image, [int(cv2.IMWRITE_PNG_COMPRESSION), png_q])\n",
    "        else:\n",
    "            cv2.imwrite(path, image)\n",
    "    # Read and process files\n",
    "    for root, dirs, files in os.walk(from_folder, topdown=False):    \n",
    "        for file_name in files:\n",
    "            file_name_split = file_name.split('.')\n",
    "            try:\n",
    "                # If from_type is specified, only process files of that type\n",
    "                if from_type != None and file_name_split[-1] == from_type:\n",
    "                    oldfile = os.path.join(root, '.'.join(file_name_split))\n",
    "                    newfile = oldfile.replace(from_folder, to_folder).replace(from_type, to_type)\n",
    "                    image = cv2.imread(oldfile)\n",
    "                    if to_type == \"jpg\":\n",
    "                        compress(newfile, image, jpg_q=jpg_q)\n",
    "                    elif to_type == \"png\":\n",
    "                        compress(newfile, image, png_q=png_q)\n",
    "                    if verbose == True:\n",
    "                        print(f'{oldfile} done...')\n",
    "                        time.sleep(0.5)\n",
    "                # If from_type is not specified, process all files\n",
    "                elif from_type == None:\n",
    "                    oldfile = os.path.join(root, '.'.join(file_name_split))\n",
    "                    newfile = oldfile.replace(from_folder, to_folder).replace(file_name_split[-1], to_type)\n",
    "                    image = cv2.imread(oldfile)\n",
    "                    if to_type == \"jpg\":\n",
    "                        compress(newfile, image, jpg_q=jpg_q)\n",
    "                    elif to_type == \"png\":\n",
    "                        compress(newfile, image, png_q=png_q)\n",
    "                    if verbose == True:\n",
    "                        print(f'{oldfile} done...')\n",
    "                        time.sleep(0.5)\n",
    "            except FileNotFoundError as e:\n",
    "                print(e)\n",
    "        if verbose == True:\n",
    "            time.sleep(0.1) \n",
    "        else:\n",
    "            print(\"Done.\")"
   ]
  },
  {
   "cell_type": "code",
   "execution_count": 3,
   "metadata": {},
   "outputs": [
    {
     "name": "stdout",
     "output_type": "stream",
     "text": [
      "Done.\n",
      "Done.\n",
      "Done.\n"
     ]
    }
   ],
   "source": [
    "Compress(from_folder=\"Input\", to_folder=\"Output\", to_type=\"jpg\", jpg_q=50, verbose=False)"
   ]
  }
 ],
 "metadata": {
  "interpreter": {
   "hash": "ab51cedd4faa636a99de84d1efe44e10be59573e2465e84fca2cd5ae33c3e6f5"
  },
  "kernelspec": {
   "display_name": "Python 3.9.7 ('base')",
   "language": "python",
   "name": "python3"
  },
  "language_info": {
   "codemirror_mode": {
    "name": "ipython",
    "version": 3
   },
   "file_extension": ".py",
   "mimetype": "text/x-python",
   "name": "python",
   "nbconvert_exporter": "python",
   "pygments_lexer": "ipython3",
   "version": "3.9.7"
  },
  "orig_nbformat": 4
 },
 "nbformat": 4,
 "nbformat_minor": 2
}
