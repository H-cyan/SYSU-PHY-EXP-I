{
 "cells": [
  {
   "cell_type": "markdown",
   "metadata": {},
   "source": [
    "# B2 Thermal conductivity\n",
    "Jeg Vet\n",
    "\n",
    "huangzw29@mail2.sysu.edu.cn\n",
    "\n",
    "2021/11/26"
   ]
  },
  {
   "cell_type": "code",
   "execution_count": 1,
   "metadata": {},
   "outputs": [],
   "source": [
    "import pandas as pd\n",
    "import numpy as np\n",
    "import sympy as sp\n",
    "import matplotlib.pyplot as plt\n",
    "from scipy.optimize import curve_fit\n",
    "from scipy.interpolate import UnivariateSpline,Rbf\n",
    "import glob,os"
   ]
  },
  {
   "cell_type": "code",
   "execution_count": 2,
   "metadata": {},
   "outputs": [],
   "source": [
    "r0 = 110\n",
    "U = 17\n",
    "A = 0.85\n",
    "rho_og = 1196\n",
    "rho_rb = 1374"
   ]
  },
  {
   "cell_type": "markdown",
   "metadata": {},
   "source": [
    "## 1 Organic glass"
   ]
  },
  {
   "cell_type": "markdown",
   "metadata": {},
   "source": [
    "### 1.1 size"
   ]
  },
  {
   "cell_type": "code",
   "execution_count": 3,
   "metadata": {},
   "outputs": [
    {
     "name": "stdout",
     "output_type": "stream",
     "text": [
      "[0.08966750000000001, 0.010052500000000002, 7.228416147400901e-05, 3.3040379335998406e-05]\n",
      "[0.0896425, 0.0101075, 1.7078251276596974e-05, 2.061552812808851e-05]\n",
      "[0.0896375, 0.010025, 9.57427107756828e-06, 2.380476142847653e-05]\n",
      "[0.08962250000000001, 0.010032500000000001, 2.629955639677118e-05, 2.8722813232690306e-05]\n",
      "0.00803353695625 0.01002875\n"
     ]
    },
    {
     "data": {
      "text/html": [
       "<div>\n",
       "<style scoped>\n",
       "    .dataframe tbody tr th:only-of-type {\n",
       "        vertical-align: middle;\n",
       "    }\n",
       "\n",
       "    .dataframe tbody tr th {\n",
       "        vertical-align: top;\n",
       "    }\n",
       "\n",
       "    .dataframe thead th {\n",
       "        text-align: right;\n",
       "    }\n",
       "</style>\n",
       "<table border=\"1\" class=\"dataframe\">\n",
       "  <thead>\n",
       "    <tr style=\"text-align: right;\">\n",
       "      <th></th>\n",
       "      <th>width</th>\n",
       "      <th>thickness</th>\n",
       "      <th>Sw</th>\n",
       "      <th>St</th>\n",
       "    </tr>\n",
       "    <tr>\n",
       "      <th>index</th>\n",
       "      <th></th>\n",
       "      <th></th>\n",
       "      <th></th>\n",
       "      <th></th>\n",
       "    </tr>\n",
       "  </thead>\n",
       "  <tbody>\n",
       "    <tr>\n",
       "      <th>0</th>\n",
       "      <td>0.089668</td>\n",
       "      <td>0.010053</td>\n",
       "      <td>0.000072</td>\n",
       "      <td>0.000033</td>\n",
       "    </tr>\n",
       "    <tr>\n",
       "      <th>1</th>\n",
       "      <td>0.089642</td>\n",
       "      <td>0.010108</td>\n",
       "      <td>0.000017</td>\n",
       "      <td>0.000021</td>\n",
       "    </tr>\n",
       "    <tr>\n",
       "      <th>2</th>\n",
       "      <td>0.089637</td>\n",
       "      <td>0.010025</td>\n",
       "      <td>0.000010</td>\n",
       "      <td>0.000024</td>\n",
       "    </tr>\n",
       "    <tr>\n",
       "      <th>3</th>\n",
       "      <td>0.089623</td>\n",
       "      <td>0.010033</td>\n",
       "      <td>0.000026</td>\n",
       "      <td>0.000029</td>\n",
       "    </tr>\n",
       "  </tbody>\n",
       "</table>\n",
       "</div>"
      ],
      "text/plain": [
       "          width  thickness        Sw        St\n",
       "index                                         \n",
       "0      0.089668   0.010053  0.000072  0.000033\n",
       "1      0.089642   0.010108  0.000017  0.000021\n",
       "2      0.089637   0.010025  0.000010  0.000024\n",
       "3      0.089623   0.010033  0.000026  0.000029"
      ]
     },
     "execution_count": 3,
     "metadata": {},
     "output_type": "execute_result"
    }
   ],
   "source": [
    "dfLIST = []\n",
    "path = r'B2-Data/'\n",
    "file = glob.glob(os.path.join(path, 'og**.csv'))\n",
    "for f in file:\n",
    "    dfLIST.append(pd.read_csv(f))\n",
    "    \n",
    "def F(df):\n",
    "    w, t = tuple((df.describe().loc['mean'])*0.001)\n",
    "    Sw, St = tuple((df.describe().loc['std'])*0.001)\n",
    "    return [w, t, Sw, St]\n",
    "\n",
    "size = pd.DataFrame(columns=['index', 'width', 'thickness', 'Sw', 'St'])\n",
    "size.set_index('index', drop=True, inplace=True)\n",
    "for idx in range(len(dfLIST)):\n",
    "    df = dfLIST[idx]\n",
    "    print(F(df))\n",
    "    size.loc[len(size)] = F(df)\n",
    "\n",
    "R = (size.iloc[2,1] + size.iloc[3,1])/2\n",
    "S = ((size.iloc[2,0])**2 + (size.iloc[3,0])**2)/2\n",
    "print(S, R)\n",
    "\n",
    "R1 = size.iloc[2,1] \n",
    "SR1 = size.iloc[2,3] \n",
    "R2 = size.iloc[3,1]\n",
    "SR2 = size.iloc[3,3]\n",
    "W1 = size.iloc[2,0]\n",
    "SW1 = size.iloc[2,2]\n",
    "W2 = size.iloc[3,0]\n",
    "SW2 = size.iloc[3,2]\n",
    "\n",
    "size"
   ]
  },
  {
   "cell_type": "code",
   "execution_count": 4,
   "metadata": {},
   "outputs": [],
   "source": [
    "R1s, R2s, W1s, W2s = sp.symbols('R1s R2s W1s W2s') \n",
    "subs = {'R1s': R1, 'R2s': R2, 'W1s': W1, 'W2s': W2} "
   ]
  },
  {
   "cell_type": "code",
   "execution_count": 5,
   "metadata": {},
   "outputs": [
    {
     "name": "stdout",
     "output_type": "stream",
     "text": [
      "0.500000000000000 0.500000000000000\n",
      "Sa=0.0000186525244046663\n",
      "Sb=0.00000408248290463863\n",
      "S=0.0000190940653956495\n"
     ]
    }
   ],
   "source": [
    "F_R = (R1s + R2s)/2\n",
    "F_R_R, F_R_S = tuple(sp.diff(F_R, i).evalf(subs = subs) for i in ['R1s', 'R2s'])  \n",
    "print(F_R_R, F_R_S)\n",
    "\n",
    "# S\n",
    "Sa = ( (SR1*F_R_R)**2 + (SR2*F_R_S)**2 )**(1/2)\n",
    "u = 0.00001/(3**(1/2)) \n",
    "Sb = ( (u*F_R_R)**2 + (u*F_R_S)**2 )**(1/2)\n",
    "SR = ( (Sa)**2 + (Sb)**2 )**(1/2)\n",
    "print('Sa={}\\nSb={}\\nS={}'.format(Sa, Sb, SR))"
   ]
  },
  {
   "cell_type": "code",
   "execution_count": 6,
   "metadata": {},
   "outputs": [
    {
     "name": "stdout",
     "output_type": "stream",
     "text": [
      "0.0896375000000000 0.0896225000000000\n",
      "Sa=0.00000250841197023114\n",
      "Sb=7.31825888047606E-7\n",
      "S=0.00000261298674753921\n"
     ]
    }
   ],
   "source": [
    "F_S = (W1s**2 + W2s**2)/2\n",
    "F_S_R, F_S_S = tuple(sp.diff(F_S, i).evalf(subs = subs) for i in ['W1s', 'W2s'])  \n",
    "print(F_S_R, F_S_S)\n",
    "\n",
    "# S\n",
    "Sa = ( (SW1*F_S_R)**2 + (SW2*F_S_S)**2 )**(1/2)\n",
    "u = 0.00001/(3**(1/2)) \n",
    "Sb = ( (u*F_S_R)**2 + (u*F_S_S)**2 )**(1/2)\n",
    "SS = ( (Sa)**2 + (Sb)**2 )**(1/2)\n",
    "print('Sa={}\\nSb={}\\nS={}'.format(Sa, Sb, SS))"
   ]
  },
  {
   "cell_type": "markdown",
   "metadata": {},
   "source": [
    "### 1.2 $T$ & $\\Delta T$"
   ]
  },
  {
   "cell_type": "code",
   "execution_count": 7,
   "metadata": {},
   "outputs": [
    {
     "data": {
      "image/png": "[encoded data removed]",
      "text/plain": [
       "<Figure size 864x504 with 1 Axes>"
      ]
     },
     "metadata": {
      "needs_background": "light"
     },
     "output_type": "display_data"
    }
   ],
   "source": [
    "dfog = pd.read_csv('B2-Data/Tog.csv')\n",
    "par = 1/0.039\n",
    "dfog['Tc'] = dfog['uTc']*par\n",
    "dfog['dT'] = dfog['udT']*par\n",
    "\n",
    "fig = plt.figure(figsize=(12, 7))\n",
    "t = np.arange(0, 15.5, 0.5)\n",
    "plt.scatter(t, dfog['Tc'], color='#67b9c5', alpha = 0.5, label='Center temperature $T_c$')\n",
    "plt.scatter(t, dfog['dT'], color='#ff92b1', alpha = 0.5, label='Temperature difference $\\Delta T$')\n",
    "\n",
    "# Tc\n",
    "Tc_func = np.polyfit(t[20:], dfog['Tc'][20:], deg=1)\n",
    "t_dns = np.linspace(10, 15, 100)\n",
    "Tc_reg = np.polyval(Tc_func, t_dns)\n",
    "\n",
    "r = np.corrcoef(t[20:], dfog['Tc'][20:])[0,1]\n",
    "A1, A2 = tuple(Tc_func)\n",
    "plt.plot(t_dns, Tc_reg, color='#67b9c5', \n",
    "                          label='$T_c$ \\ny = {:.2f}x + {:.2f}\\nr = {:.8f}'\n",
    "                          .format(A1, A2, r))\n",
    "\n",
    "# dT\n",
    "t_dns = np.linspace(0, 15, 1000)\n",
    "itp_func = Rbf(t, dfog['dT'], smooth=0.5)\n",
    "\n",
    "dT_itp = itp_func(t_dns)\n",
    "plt.plot(t_dns, dT_itp, color='#ff92b1', label='$\\Delta T$')\n",
    "\n",
    "\n",
    "plt.legend()\n",
    "\n",
    "plt.xlabel('Time t/min')\n",
    "plt.ylabel('Temperature T/$^oC$')\n",
    "plt.title('fig. 1 The center temperature and temperature difference of the organic glasses.', y=-0.15)\n",
    "plt.savefig(r'B2-Output\\fig.1.png', bbox_inches = 'tight', dpi=300)"
   ]
  },
  {
   "cell_type": "markdown",
   "metadata": {},
   "source": [
    "### 1.3 lam & c"
   ]
  },
  {
   "cell_type": "code",
   "execution_count": 21,
   "metadata": {},
   "outputs": [
    {
     "name": "stdout",
     "output_type": "stream",
     "text": [
      "4.102564102564103\n",
      "139.94192960659615\n",
      "0.17166282918164133\n",
      "1423.5019598728952\n"
     ]
    }
   ],
   "source": [
    "dT = 0.160*par\n",
    "qc = U**2/(2*r0*(S/A))\n",
    "k = 0.49/60\n",
    "lam = U**2*R/(4*dT*r0*(S/A))\n",
    "c = U**2/((2*r0*(S/A)) * (rho_og*R*k))\n",
    "print(dT)\n",
    "print(qc)\n",
    "print(lam)\n",
    "print(c)"
   ]
  },
  {
   "cell_type": "code",
   "execution_count": 9,
   "metadata": {},
   "outputs": [],
   "source": [
    "Rs, Ss = sp.symbols('Rs Ss') \n",
    "subs = {'Rs':R, 'Ss':S} "
   ]
  },
  {
   "cell_type": "code",
   "execution_count": 10,
   "metadata": {},
   "outputs": [
    {
     "name": "stdout",
     "output_type": "stream",
     "text": [
      "16.9395520038757 -21.1466671634220\n",
      "Slam=0.000328130817590940\n"
     ]
    }
   ],
   "source": [
    "F_lam = U**2*Rs/(4*dT*r0*(Ss/A))\n",
    "F_lam_R, F_lam_S = tuple(sp.diff(F_lam, i).evalf(subs = subs) for i in ['Rs', 'Ss'])  \n",
    "print(F_lam_R, F_lam_S)\n",
    "\n",
    "# S\n",
    "Slam = ( (SR*F_lam_R)**2 + (SS*F_lam_S)**2 )**(1/2)\n",
    "print('Slam={}'.format(Slam))"
   ]
  },
  {
   "cell_type": "code",
   "execution_count": 11,
   "metadata": {},
   "outputs": [
    {
     "name": "stdout",
     "output_type": "stream",
     "text": [
      "-141487.369396806 -176627.239479405\n",
      "Sc=2.74070802984300\n"
     ]
    }
   ],
   "source": [
    "F_c = U**2/((2*r0*(Ss/A)) * (rho_og*Rs*k))\n",
    "F_c_R, F_c_S = tuple(sp.diff(F_c, i).evalf(subs = subs) for i in ['Rs', 'Ss'])  \n",
    "print(F_c_R, F_c_S)\n",
    "\n",
    "# S\n",
    "Sc = ( (SR*F_c_R)**2 + (SS*F_c_S)**2 )**(1/2)\n",
    "print('Sc={}'.format(Sc))"
   ]
  },
  {
   "cell_type": "markdown",
   "metadata": {},
   "source": [
    "## 2. rubber"
   ]
  },
  {
   "cell_type": "markdown",
   "metadata": {},
   "source": [
    "### 2.1 Size"
   ]
  },
  {
   "cell_type": "code",
   "execution_count": 12,
   "metadata": {},
   "outputs": [
    {
     "name": "stdout",
     "output_type": "stream",
     "text": [
      "[0.08942750000000001, 0.010045, 0.00021669871557841158, 2.0816659994661738e-05]\n",
      "[0.08938249999999999, 0.0100625, 6.70198975429488e-05, 1.7078251276599745e-05]\n",
      "[0.089695, 0.0102325, 5.4467115461224734e-05, 2.0615528128087864e-05]\n",
      "[0.0892675, 0.010067500000000002, 0.00020516253719104666, 9.574271077563178e-06]\n",
      "0.007978958931249999 0.010065000000000001\n"
     ]
    },
    {
     "data": {
      "text/html": [
       "<div>\n",
       "<style scoped>\n",
       "    .dataframe tbody tr th:only-of-type {\n",
       "        vertical-align: middle;\n",
       "    }\n",
       "\n",
       "    .dataframe tbody tr th {\n",
       "        vertical-align: top;\n",
       "    }\n",
       "\n",
       "    .dataframe thead th {\n",
       "        text-align: right;\n",
       "    }\n",
       "</style>\n",
       "<table border=\"1\" class=\"dataframe\">\n",
       "  <thead>\n",
       "    <tr style=\"text-align: right;\">\n",
       "      <th></th>\n",
       "      <th>width</th>\n",
       "      <th>thickness</th>\n",
       "      <th>Sw</th>\n",
       "      <th>St</th>\n",
       "    </tr>\n",
       "    <tr>\n",
       "      <th>index</th>\n",
       "      <th></th>\n",
       "      <th></th>\n",
       "      <th></th>\n",
       "      <th></th>\n",
       "    </tr>\n",
       "  </thead>\n",
       "  <tbody>\n",
       "    <tr>\n",
       "      <th>0</th>\n",
       "      <td>0.089428</td>\n",
       "      <td>0.010045</td>\n",
       "      <td>0.000217</td>\n",
       "      <td>0.000021</td>\n",
       "    </tr>\n",
       "    <tr>\n",
       "      <th>1</th>\n",
       "      <td>0.089382</td>\n",
       "      <td>0.010063</td>\n",
       "      <td>0.000067</td>\n",
       "      <td>0.000017</td>\n",
       "    </tr>\n",
       "    <tr>\n",
       "      <th>2</th>\n",
       "      <td>0.089695</td>\n",
       "      <td>0.010233</td>\n",
       "      <td>0.000054</td>\n",
       "      <td>0.000021</td>\n",
       "    </tr>\n",
       "    <tr>\n",
       "      <th>3</th>\n",
       "      <td>0.089267</td>\n",
       "      <td>0.010068</td>\n",
       "      <td>0.000205</td>\n",
       "      <td>0.000010</td>\n",
       "    </tr>\n",
       "  </tbody>\n",
       "</table>\n",
       "</div>"
      ],
      "text/plain": [
       "          width  thickness        Sw        St\n",
       "index                                         \n",
       "0      0.089428   0.010045  0.000217  0.000021\n",
       "1      0.089382   0.010063  0.000067  0.000017\n",
       "2      0.089695   0.010233  0.000054  0.000021\n",
       "3      0.089267   0.010068  0.000205  0.000010"
      ]
     },
     "execution_count": 12,
     "metadata": {},
     "output_type": "execute_result"
    }
   ],
   "source": [
    "dfLIST = []\n",
    "path = r'B2-Data/'\n",
    "file = glob.glob(os.path.join(path, 'rb**.csv'))\n",
    "for f in file:\n",
    "    dfLIST.append(pd.read_csv(f))\n",
    "    \n",
    "def F(df):\n",
    "    w, t = tuple((df.describe().loc['mean'])*0.001)\n",
    "    Sw, St = tuple((df.describe().loc['std'])*0.001)\n",
    "    return [w, t, Sw, St]\n",
    "\n",
    "size = pd.DataFrame(columns=['index', 'width', 'thickness', 'Sw', 'St'])\n",
    "size.set_index('index', drop=True, inplace=True)\n",
    "for idx in range(len(dfLIST)):\n",
    "    df = dfLIST[idx]\n",
    "    print(F(df))\n",
    "    size.loc[len(size)] = F(df)\n",
    "\n",
    "R = (size.iloc[1,1] + size.iloc[3,1])/2\n",
    "S = ((size.iloc[1,0])**2 + (size.iloc[3,0])**2)/2\n",
    "print(S, R)\n",
    "\n",
    "R1 = size.iloc[1,1] \n",
    "SR1 = size.iloc[1,3] \n",
    "R2 = size.iloc[3,1]\n",
    "SR2 = size.iloc[3,3]\n",
    "W1 = size.iloc[1,0]\n",
    "SW1 = size.iloc[1,2]\n",
    "W2 = size.iloc[3,0]\n",
    "SW2 = size.iloc[3,2]\n",
    "\n",
    "size"
   ]
  },
  {
   "cell_type": "code",
   "execution_count": 13,
   "metadata": {},
   "outputs": [],
   "source": [
    "R1s, R2s, W1s, W2s = sp.symbols('R1s R2s W1s W2s') \n",
    "subs = {'R1s': R1, 'R2s': R2, 'W1s': W1, 'W2s': W2} "
   ]
  },
  {
   "cell_type": "code",
   "execution_count": 14,
   "metadata": {},
   "outputs": [
    {
     "name": "stdout",
     "output_type": "stream",
     "text": [
      "0.500000000000000 0.500000000000000\n",
      "Sa=0.00000978945010372574\n",
      "Sb=0.00000408248290463863\n",
      "S=0.0000106066017177983\n"
     ]
    }
   ],
   "source": [
    "F_R = (R1s + R2s)/2\n",
    "F_R_R, F_R_S = tuple(sp.diff(F_R, i).evalf(subs = subs) for i in ['R1s', 'R2s'])  \n",
    "print(F_R_R, F_R_S)\n",
    "\n",
    "# S\n",
    "Sa = ( (SR1*F_R_R)**2 + (SR2*F_R_S)**2 )**(1/2)\n",
    "u = 0.00001/(3**(1/2)) \n",
    "Sb = ( (u*F_R_R)**2 + (u*F_R_S)**2 )**(1/2)\n",
    "SR = ( (Sa)**2 + (Sb)**2 )**(1/2)\n",
    "print('Sa={}\\nSb={}\\nS={}'.format(Sa, Sb, SR))"
   ]
  },
  {
   "cell_type": "code",
   "execution_count": 15,
   "metadata": {},
   "outputs": [
    {
     "name": "stdout",
     "output_type": "stream",
     "text": [
      "0.0893825000000000 0.0892675000000000\n",
      "Sa=0.0000192691531274057\n",
      "Sb=7.29335722021530E-7\n",
      "S=0.0000192829508333871\n"
     ]
    }
   ],
   "source": [
    "F_S = (W1s**2 + W2s**2)/2\n",
    "F_S_R, F_S_S = tuple(sp.diff(F_S, i).evalf(subs = subs) for i in ['W1s', 'W2s'])  \n",
    "print(F_S_R, F_S_S)\n",
    "\n",
    "# S\n",
    "Sa = ( (SW1*F_S_R)**2 + (SW2*F_S_S)**2 )**(1/2)\n",
    "u = 0.00001/(3**(1/2)) \n",
    "Sb = ( (u*F_S_R)**2 + (u*F_S_S)**2 )**(1/2)\n",
    "SS = ( (Sa)**2 + (Sb)**2 )**(1/2)\n",
    "print('Sa={}\\nSb={}\\nS={}'.format(Sa, Sb, SS))"
   ]
  },
  {
   "cell_type": "markdown",
   "metadata": {},
   "source": [
    "### 2.2 $T$ & $\\Delta T$"
   ]
  },
  {
   "cell_type": "code",
   "execution_count": 16,
   "metadata": {},
   "outputs": [
    {
     "data": {
      "image/png": "[encoded data removed]",
      "text/plain": [
       "<Figure size 864x504 with 1 Axes>"
      ]
     },
     "metadata": {
      "needs_background": "light"
     },
     "output_type": "display_data"
    }
   ],
   "source": [
    "dfrb = pd.read_csv('B2-Data/Trb.csv')\n",
    "par = 1/0.039\n",
    "dfrb['Tc'] = dfrb['uTc']*par\n",
    "dfrb['dT'] = dfrb['udT']*par\n",
    "\n",
    "fig = plt.figure(figsize=(12, 7))\n",
    "t = np.arange(0, 15.5, 0.5)\n",
    "plt.scatter(t, dfrb['Tc'], color='#67b9c5', alpha = 0.5, label='Center temperature $T_c$')\n",
    "plt.scatter(t, dfrb['dT'], color='#ff92b1', alpha = 0.5, label='Temperature difference $\\Delta T$')\n",
    "\n",
    "# Tc\n",
    "Tc_func = np.polyfit(t[10:], dfrb['Tc'][10:], deg=1)\n",
    "t_dns = np.linspace(5, 15, 100)\n",
    "Tc_reg = np.polyval(Tc_func, t_dns)\n",
    "\n",
    "r = np.corrcoef(t[10:], dfrb['Tc'][10:])[0,1]\n",
    "A1, A2 = tuple(Tc_func)\n",
    "plt.plot(t_dns, Tc_reg, color='#67b9c5', \n",
    "                          label='$T_c$ \\ny = {:.2f}x + {:.2f}\\nr = {:.8f}'\n",
    "                          .format(A1, A2, r))\n",
    "\n",
    "# dT\n",
    "t_dns = np.linspace(0, 15, 1000)\n",
    "itp_func = Rbf(t, dfrb['dT'], smooth=0.5)\n",
    "\n",
    "dT_itp = itp_func(t_dns)\n",
    "plt.plot(t_dns, dT_itp, color='#ff92b1', label='$\\Delta T$')\n",
    "\n",
    "\n",
    "plt.legend()\n",
    "\n",
    "plt.xlabel('Time t/min')\n",
    "plt.ylabel('Temperature T/$^oC$')\n",
    "plt.title('fig. 2 The center temperature and temperature difference of the rubber.', y=-0.15)\n",
    "plt.savefig(r'B2-Output\\fig.2.png', bbox_inches = 'tight', dpi=300)"
   ]
  },
  {
   "cell_type": "markdown",
   "metadata": {},
   "source": [
    "### 1.3 lam & c"
   ]
  },
  {
   "cell_type": "code",
   "execution_count": 22,
   "metadata": {},
   "outputs": [
    {
     "name": "stdout",
     "output_type": "stream",
     "text": [
      "1.846153846153846\n",
      "139.94192960659615\n",
      "0.38147295373698076\n",
      "1349.2302904155124\n"
     ]
    }
   ],
   "source": [
    "dT = 0.072*par\n",
    "qc = U**2/(2*r0*(S/A))\n",
    "k = 0.45/60\n",
    "lam = U**2*R/(4*dT*r0*(S/A))\n",
    "c = U**2/((2*r0*(S/A)) * (rho_rb*R*k))\n",
    "print(dT)\n",
    "print(qc)\n",
    "print(lam)\n",
    "print(c)"
   ]
  },
  {
   "cell_type": "code",
   "execution_count": 18,
   "metadata": {},
   "outputs": [],
   "source": [
    "Rs, Ss = sp.symbols('Rs Ss') \n",
    "subs = {'Rs':R, 'Ss':S} "
   ]
  },
  {
   "cell_type": "code",
   "execution_count": 19,
   "metadata": {},
   "outputs": [
    {
     "name": "stdout",
     "output_type": "stream",
     "text": [
      "37.9009392684531 -47.8098655506200\n",
      "Slam=0.00100574943732479\n"
     ]
    }
   ],
   "source": [
    "F_lam = U**2*Rs/(4*dT*r0*(Ss/A))\n",
    "F_lam_R, F_lam_S = tuple(sp.diff(F_lam, i).evalf(subs = subs) for i in ['Rs', 'Ss'])  \n",
    "print(F_lam_R, F_lam_S)\n",
    "\n",
    "# S\n",
    "Slam = ( (SR*F_lam_R)**2 + (SS*F_lam_S)**2 )**(1/2)\n",
    "print('Slam={}'.format(Slam))"
   ]
  },
  {
   "cell_type": "code",
   "execution_count": 20,
   "metadata": {},
   "outputs": [
    {
     "name": "stdout",
     "output_type": "stream",
     "text": [
      "-154002.530294799 -194265.377322142\n",
      "Sc=4.08665223554259\n"
     ]
    }
   ],
   "source": [
    "F_c = U**2/((2*r0*(Ss/A)) * (rho_og*Rs*k))\n",
    "F_c_R, F_c_S = tuple(sp.diff(F_c, i).evalf(subs = subs) for i in ['Rs', 'Ss'])  \n",
    "print(F_c_R, F_c_S)\n",
    "\n",
    "# S\n",
    "Sc = ( (SR*F_c_R)**2 + (SS*F_c_S)**2 )**(1/2)\n",
    "print('Sc={}'.format(Sc))"
   ]
  }
 ],
 "metadata": {
  "interpreter": {
   "hash": "af98b5f27ca83b05aed41da488c774428a0f9deb192455b0a9a2771786fb6f4a"
  },
  "kernelspec": {
   "display_name": "Python 3.8.8 64-bit ('base': conda)",
   "language": "python",
   "name": "python3"
  },
  "language_info": {
   "codemirror_mode": {
    "name": "ipython",
    "version": 3
   },
   "file_extension": ".py",
   "mimetype": "text/x-python",
   "name": "python",
   "nbconvert_exporter": "python",
   "pygments_lexer": "ipython3",
   "version": "3.8.8"
  },
  "orig_nbformat": 4
 },
 "nbformat": 4,
 "nbformat_minor": 2
}
