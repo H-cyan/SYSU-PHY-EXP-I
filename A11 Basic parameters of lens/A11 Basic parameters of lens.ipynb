{
 "metadata": {
  "language_info": {
   "codemirror_mode": {
    "name": "ipython",
    "version": 3
   },
   "file_extension": ".py",
   "mimetype": "text/x-python",
   "name": "python",
   "nbconvert_exporter": "python",
   "pygments_lexer": "ipython3",
   "version": "3.8.5"
  },
  "orig_nbformat": 2,
  "kernelspec": {
   "name": "python385jvsc74a57bd0b3ba2566441a7c06988d0923437866b63cedc61552a5af99d1f4fb67d367b25f",
   "display_name": "Python 3.8.5 64-bit ('base': conda)"
  }
 },
 "nbformat": 4,
 "nbformat_minor": 2,
 "cells": [
  {
   "source": [
    "# A11 Basic parameters of lens \n",
    "by H cyan\n",
    "\n",
    "huangzw29@mail2.sysu.edu.cn\n",
    "\n",
    "2021.4.10"
   ],
   "cell_type": "markdown",
   "metadata": {}
  },
  {
   "cell_type": "code",
   "execution_count": 94,
   "metadata": {},
   "outputs": [],
   "source": [
    "import pandas as pd\n",
    "import numpy as np"
   ]
  },
  {
   "source": [
    "## EXP1 measure the focus of the lens using self-aligning method"
   ],
   "cell_type": "markdown",
   "metadata": {}
  },
  {
   "cell_type": "code",
   "execution_count": 95,
   "metadata": {},
   "outputs": [
    {
     "output_type": "stream",
     "name": "stdout",
     "text": [
      "         1      2      3      4      5\nidx                                   \na1   110.0  204.1  241.2  169.3   81.5\na2   299.0  394.5  430.7  358.2  269.5\nb1   128.5  276.2   56.1  157.8   31.5\nb2   318.0  466.1  245.5  348.7  219.7\n"
     ]
    }
   ],
   "source": [
    "df1=pd.read_csv('EXP1.csv')\n",
    "df1=df1.set_index(['idx'],drop=True)\n",
    "print(df1)"
   ]
  },
  {
   "cell_type": "code",
   "execution_count": 96,
   "metadata": {},
   "outputs": [
    {
     "output_type": "stream",
     "name": "stdout",
     "text": [
      "         1      2      3      4      5\nidx                                   \na1   110.0  204.1  241.2  169.3   81.5\na2   299.0  394.5  430.7  358.2  269.5\nb1   128.5  276.2   56.1  157.8   31.5\nb2   318.0  466.1  245.5  348.7  219.7\nfa   189.0  190.4  189.5  188.9  188.0\nfb   189.5  189.9  189.4  190.9  188.2\n"
     ]
    }
   ],
   "source": [
    "df1.loc['fa']=df1.loc['a2']-df1.loc['a1']\n",
    "df1.loc['fb']=df1.loc['b2']-df1.loc['b1']\n",
    "print(df1)"
   ]
  },
  {
   "cell_type": "code",
   "execution_count": 97,
   "metadata": {},
   "outputs": [
    {
     "output_type": "stream",
     "name": "stdout",
     "text": [
      "[189.16, 189.58] [0.8792041856133344, 0.9731392500562279]\n"
     ]
    }
   ],
   "source": [
    "faMean=df1.loc['fa'].mean()\n",
    "faSTD=df1.loc['fa'].std()\n",
    "\n",
    "fbMean=df1.loc['fb'].mean()\n",
    "fbSTD=df1.loc['fb'].std()\n",
    "\n",
    "print([faMean,fbMean],[faSTD,fbSTD])"
   ]
  },
  {
   "cell_type": "code",
   "execution_count": 98,
   "metadata": {},
   "outputs": [
    {
     "output_type": "stream",
     "name": "stdout",
     "text": [
      "189.37 0.6557438524302008 0.0034627652343570832\nf=189.37+-0.6557438524302008\n"
     ]
    }
   ],
   "source": [
    "f=np.array([faMean,fbMean]).mean()\n",
    "fSTD=(((1/2)*faSTD)**2+((1/2)*fbSTD)**2)**(1/2)\n",
    "E=fSTD/f\n",
    "print(f,fSTD,E)\n",
    "print('f='+str(f)+'+-'+str(fSTD))"
   ]
  },
  {
   "source": [
    "## EXP2 measure the node and the focus of the lens group"
   ],
   "cell_type": "markdown",
   "metadata": {}
  },
  {
   "cell_type": "code",
   "execution_count": 107,
   "metadata": {},
   "outputs": [
    {
     "output_type": "stream",
     "name": "stdout",
     "text": [
      "         1      2      3      4      5\nidx                                   \na    128.1  149.4  120.2  167.3  131.6\nb    263.3  284.4  255.8  303.2  266.2\nd     15.0   15.0   15.0   15.0   15.0\nf'     NaN    NaN    NaN    NaN    NaN\na'   200.5  196.6  231.5  160.4  178.3\nb'   328.7  324.4  360.3  287.9  307.3\nd'    10.0   10.0   10.0   10.0   10.0\nf      NaN    NaN    NaN    NaN    NaN\n"
     ]
    }
   ],
   "source": [
    "df2=pd.read_csv('EXP2.csv')\n",
    "df2=df2.set_index(['idx'],drop=True)\n",
    "print(df2)"
   ]
  },
  {
   "cell_type": "code",
   "execution_count": 108,
   "metadata": {},
   "outputs": [
    {
     "output_type": "stream",
     "name": "stdout",
     "text": [
      "         1      2      3      4      5\nidx                                   \na    128.1  149.4  120.2  167.3  131.6\nb    263.3  284.4  255.8  303.2  266.2\nd     15.0   15.0   15.0   15.0   15.0\nf'   135.2  135.0  135.6  135.9  134.6\na'   200.5  196.6  231.5  160.4  178.3\nb'   328.7  324.4  360.3  287.9  307.3\nd'    10.0   10.0   10.0   10.0   10.0\nf    128.2  127.8  128.8  127.5  129.0\n"
     ]
    }
   ],
   "source": [
    "df2.loc['f\\'']=df2.loc['b']-df2.loc['a']\n",
    "df2.loc['f']=df2.loc['b\\'']-df2.loc['a\\'']\n",
    "# 注意转义\n",
    "print(df2)\n"
   ]
  },
  {
   "cell_type": "code",
   "execution_count": 109,
   "metadata": {},
   "outputs": [
    {
     "output_type": "stream",
     "name": "stdout",
     "text": [
      "[135.26000000000002, 128.26] [0.5079370039680134, 0.6387487769068667]\n"
     ]
    }
   ],
   "source": [
    "f1Mean=df2.loc['f\\''].mean()\n",
    "f1STD=df2.loc['f\\''].std()\n",
    "\n",
    "f2Mean=df2.loc['f'].mean()\n",
    "f2STD=df2.loc['f'].std()\n",
    "\n",
    "print([f1Mean,f2Mean],[f1STD,f2STD])"
   ]
  },
  {
   "cell_type": "code",
   "execution_count": null,
   "metadata": {},
   "outputs": [],
   "source": []
  }
 ]
}