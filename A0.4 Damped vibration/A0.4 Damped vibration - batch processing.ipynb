{
 "metadata": {
  "language_info": {
   "codemirror_mode": {
    "name": "ipython",
    "version": 3
   },
   "file_extension": ".py",
   "mimetype": "text/x-python",
   "name": "python",
   "nbconvert_exporter": "python",
   "pygments_lexer": "ipython3",
   "version": "3.8.5"
  },
  "orig_nbformat": 2,
  "kernelspec": {
   "name": "python385jvsc74a57bd0b3ba2566441a7c06988d0923437866b63cedc61552a5af99d1f4fb67d367b25f",
   "display_name": "Python 3.8.5 64-bit ('base': conda)"
  }
 },
 "nbformat": 4,
 "nbformat_minor": 2,
 "cells": [
  {
   "source": [
    "# A0.4 Damped vibration - batch processing\n",
    "by H cyan\n",
    "\n",
    "huangzw29@mail2.sysu.edu.cn\n",
    "\n",
    "2021.4.23"
   ],
   "cell_type": "markdown",
   "metadata": {}
  },
  {
   "cell_type": "code",
   "execution_count": 280,
   "metadata": {},
   "outputs": [],
   "source": [
    "import glob,os\n",
    "\n",
    "import numpy as np\n",
    "import pandas as pd\n",
    "import matplotlib.pyplot as plt\n",
    "\n",
    "from scipy.interpolate import Rbf\n",
    "from scipy.optimize import curve_fit\n",
    "from scipy import fftpack"
   ]
  },
  {
   "cell_type": "code",
   "execution_count": 281,
   "metadata": {},
   "outputs": [
    {
     "output_type": "stream",
     "name": "stdout",
     "text": [
      "[     Time (s)  Linear Acceleration x (m/s^2)  Linear Acceleration y (m/s^2)  \\\n0    0.000000                      -0.040283                       0.371871   \n1    0.019322                      -0.259062                       0.172190   \n2    0.038634                      -0.125829                       0.151911   \n3    0.057972                      -0.234843                       0.178468   \n4    0.077279                      -0.220395                       0.088846   \n..        ...                            ...                            ...   \n424  8.193621                      -0.476855                       0.141034   \n425  8.212940                      -0.523734                       0.156299   \n426  8.232258                      -0.254575                      -0.243614   \n427  8.251601                       0.361337                       0.072641   \n428  8.270936                       0.314211                      -0.080735   \n\n     Linear Acceleration z (m/s^2)  Absolute acceleration (m/s^2)  \n0                         1.588464                       1.631909  \n1                        -0.472510                       0.565710  \n2                        -0.479714                       0.518686  \n3                        -0.104258                       0.312844  \n4                         0.577204                       0.624205  \n..                             ...                            ...  \n424                      -4.696569                       4.722821  \n425                      -4.695438                       4.727141  \n426                      -0.495532                       0.608037  \n427                       2.995651                       3.018239  \n428                       3.224745                       3.241023  \n\n[429 rows x 5 columns],       Time (s)  Linear Acceleration x (m/s^2)  Linear Acceleration y (m/s^2)  \\\n0     0.000000                      -0.174031                       0.263958   \n1     0.019329                      -0.424289                       0.157352   \n2     0.038632                      -0.453813                       0.065138   \n3     0.057963                      -0.466086                       0.038910   \n4     0.077264                      -0.972560                       0.174643   \n..         ...                            ...                            ...   \n521  10.068363                      -0.214278                       0.048469   \n522  10.087703                      -0.100593                       0.009757   \n523  10.107022                      -0.053801                      -0.030094   \n524  10.126335                       0.101707                       0.102966   \n525  10.145676                      -0.041470                      -0.200111   \n\n     Linear Acceleration z (m/s^2)  Absolute acceleration (m/s^2)  \n0                        -0.814368                       0.873588  \n1                         0.261175                       0.522487  \n2                         0.265367                       0.529726  \n3                         0.237508                       0.524557  \n4                         0.255743                       1.020675  \n..                             ...                            ...  \n521                      -0.912651                       0.938721  \n522                       0.493769                       0.504006  \n523                       1.559137                       1.560356  \n524                       0.127796                       0.193075  \n525                       1.896343                       1.907323  \n\n[526 rows x 5 columns],       Time (s)  Linear Acceleration x (m/s^2)  Linear Acceleration y (m/s^2)  \\\n0     0.000000                      -0.101552                      -0.049121   \n1     0.019320                      -0.740926                      -0.157452   \n2     0.038666                      -0.742034                      -0.150102   \n3     0.057877                      -0.851958                      -0.036005   \n4     0.077198                      -0.504768                      -0.209300   \n..         ...                            ...                            ...   \n563  10.879798                      -0.116927                       0.211566   \n564  10.899142                       0.028470                      -0.135918   \n565  10.918460                       0.065322                      -0.154531   \n566  10.937778                       0.001587                       0.064425   \n567  10.957121                       0.020483                       0.077680   \n\n     Linear Acceleration z (m/s^2)  Absolute acceleration (m/s^2)  \n0                        -0.197708                       0.227627  \n1                         2.207024                       2.333392  \n2                         2.207185                       2.333411  \n3                         1.321351                       1.572608  \n4                         0.086747                       0.553283  \n..                             ...                            ...  \n563                      -1.200627                       1.224720  \n564                       1.457818                       1.464417  \n565                       1.705294                       1.713527  \n566                       0.397334                       0.402526  \n567                       0.571925                       0.577539  \n\n[568 rows x 5 columns],       Time (s)  Linear Acceleration x (m/s^2)  Linear Acceleration y (m/s^2)  \\\n0     0.000000                      -0.465882                      -0.009610   \n1     0.019294                      -0.604574                      -0.109833   \n2     0.038621                      -0.002590                      -0.123975   \n3     0.057958                      -0.497092                       0.186853   \n4     0.077276                      -0.621297                      -0.052055   \n..         ...                            ...                            ...   \n895  17.295883                       0.103650                      -0.003200   \n896  17.315191                       0.057070                      -0.016115   \n897  17.334532                       0.013255                      -0.001826   \n898  17.353851                      -0.040039                       0.095729   \n899  17.373170                      -0.122203                      -0.022041   \n\n     Linear Acceleration z (m/s^2)  Absolute acceleration (m/s^2)  \n0                         0.620682                       0.776134  \n1                         0.300028                       0.683806  \n2                        -0.089307                       0.152814  \n3                         0.722559                       0.896720  \n4                         0.300378                       0.692059  \n..                             ...                            ...  \n895                       1.073826                       1.078822  \n896                       0.553800                       0.556966  \n897                      -0.156963                       0.157532  \n898                      -1.629775                       1.633074  \n899                      -0.811692                       0.821135  \n\n[900 rows x 5 columns],       Time (s)  Linear Acceleration x (m/s^2)  Linear Acceleration y (m/s^2)  \\\n0     0.000000                      -0.093473                      -0.153677   \n1     0.019306                      -0.556272                      -0.139970   \n2     0.038632                      -0.639867                      -0.192962   \n3     0.057969                      -0.573924                      -0.138467   \n4     0.077267                      -0.713899                      -0.040974   \n..         ...                            ...                            ...   \n836  16.155733                       0.051693                      -0.002184   \n837  16.175053                      -0.000767                      -0.014915   \n838  16.194382                       0.073306                       0.137812   \n839  16.213691                      -0.008742                      -0.004395   \n840  16.233029                      -0.075345                      -0.050742   \n\n     Linear Acceleration z (m/s^2)  Absolute acceleration (m/s^2)  \n0                        -0.812632                       0.832301  \n1                         1.372964                       1.487972  \n2                         0.625326                       0.915257  \n3                         1.377427                       1.498622  \n4                        -0.912104                       1.158993  \n..                             ...                            ...  \n836                       0.579202                       0.581509  \n837                      -0.050840                       0.052988  \n838                      -2.002169                       2.008244  \n839                      -0.831831                       0.831889  \n840                      -0.244224                       0.260571  \n\n[841 rows x 5 columns],       Time (s)  Linear Acceleration x (m/s^2)  Linear Acceleration y (m/s^2)  \\\n0     0.000000                      -0.544721                      -0.144341   \n1     0.019329                      -0.621060                      -0.303291   \n2     0.038621                      -0.635353                      -0.237166   \n3     0.057948                      -0.718708                      -0.412089   \n4     0.077277                      -0.684702                      -0.059507   \n..         ...                            ...                            ...   \n814  15.730581                       0.139933                       0.018004   \n815  15.749907                       0.017708                      -0.096037   \n816  15.769241                      -0.016713                      -0.098387   \n817  15.788561                      -0.520951                       0.093076   \n818  15.807880                      -0.061177                      -0.171353   \n\n     Linear Acceleration z (m/s^2)  Absolute acceleration (m/s^2)  \n0                        -0.196910                       0.596933  \n1                         0.773830                       1.037552  \n2                         0.775632                       1.030304  \n3                        -1.346668                       1.581098  \n4                        -0.313628                       0.755461  \n..                             ...                            ...  \n814                       1.974928                       1.979961  \n815                       1.233804                       1.237663  \n816                       0.135766                       0.168499  \n817                      -3.699818                       3.737473  \n818                       0.112139                       0.213728  \n\n[819 rows x 5 columns]]\n"
     ]
    }
   ],
   "source": [
    "dfLIST = []\n",
    "path = r'Steel_rule_data'\n",
    "file = glob.glob(os.path.join(path, 'Raw Data**.csv'))\n",
    "for f in file:\n",
    "    dfLIST.append(pd.read_csv(f))\n",
    "print(dfLIST) "
   ]
  },
  {
   "source": [
    "## Indirect method"
   ],
   "cell_type": "markdown",
   "metadata": {}
  },
  {
   "cell_type": "code",
   "execution_count": 282,
   "metadata": {},
   "outputs": [],
   "source": [
    "def Indirectmethod(df, idx):\n",
    "\n",
    "    # Processing\n",
    "    df.drop(df.head(100).index, inplace=True)\n",
    "    df['Time (s)'] = df['Time (s)'] - df.iloc[0,0]\n",
    "    \n",
    "    # Original value\n",
    "    t_origin = np.array(df['Time (s)'])\n",
    "    a_origin = np.array(df['Linear Acceleration z (m/s^2)'])\n",
    "\n",
    "\n",
    "    # Interpolation\n",
    "    t_itp = np.linspace(t_origin.min(), t_origin.max(), 10000)\n",
    "    func_itp = Rbf(t_origin, a_origin)\n",
    "    # func_itp = UnivariateSpline(t_origin, a_origin)\n",
    "    a_itp = func_itp(t_itp)\n",
    "\n",
    "\n",
    "    # Caculate T\n",
    "    zeropoint_rough=[]\n",
    "\n",
    "    for i in a_itp:\n",
    "        if i >= -0.2 and i <= 0.2:\n",
    "            zeropoint_rough.append(t_itp[a_itp.tolist().index(i)])\n",
    "\n",
    "    delta_t = np.diff(np.array(zeropoint_rough))\n",
    "    delta_t = np.array(list(filter(lambda x: x >= 0.01, delta_t)))\n",
    "\n",
    "    t_mean = np.mean(delta_t)\n",
    "    t_sigma = np.std(delta_t, ddof = 1)\n",
    "\n",
    "    delta_t = np.array(list(filter(lambda x: x <= (t_mean + 3*t_sigma) and x >= (t_mean - 3*t_sigma), delta_t)))\n",
    "\n",
    "    t = 2*np.mean(delta_t)\n",
    "    omega = 2*np.pi/t\n",
    "\n",
    "    # Caculate the damped exponential\n",
    "    ha = fftpack.hilbert(a_itp)\n",
    "    a_env = np.sqrt(a_itp**2 + ha**2)\n",
    "\n",
    "    def env(t, a, beta):\n",
    "        return a*np.exp(-beta*t)\n",
    "    \n",
    "    popt, pcov = curve_fit(env, t_itp, a_env)\n",
    "    avals = env(t_itp, popt[0], popt[1])\n",
    "\n",
    "    a = popt[0]\n",
    "    beta = popt[1]\n",
    "    \n",
    "\n",
    "    # Fit\n",
    "    fit = a * np.exp(-beta*t_itp) * np.cos(omega*t_itp)\n",
    "\n",
    "\n",
    "    # Plot\n",
    "    fig, a =  plt.subplots(2,2,figsize=(20, 10))\n",
    "\n",
    "\n",
    "    a[0][0].plot(t_origin, a_origin, linewidth=0.5, color='lightseagreen', label='Original curve')\n",
    "\n",
    "    a[0][0].set_xlabel('time t/s')\n",
    "    a[0][0].set_ylabel('Linear Acceleration a/(m/s^2)')\n",
    "    a[0][0].set_title('(a) Original curve', y=-0.3)\n",
    "    a[0][0].legend()\n",
    "\n",
    "\n",
    "    a[0][1].plot(t_origin, a_origin, linewidth=0.5, color='lightseagreen', label='Original curve')\n",
    "    a[0][1].plot(t_itp, avals, color='lightcoral', label='Envelope')\n",
    "\n",
    "    a[0][1].set_xlabel('time t/s')\n",
    "    a[0][1].set_ylabel('Linear Acceleration a/(m/s^2)')\n",
    "    a[0][1].set_title('(b) Envelope', y=-0.3)\n",
    "    a[0][1].legend()\n",
    "\n",
    "\n",
    "    a[1][0].plot(t_itp, fit, color='deeppink', linewidth=0.5, label='Fitting curve')\n",
    "\n",
    "    a[1][0].set_xlabel('time t/s')\n",
    "    a[1][0].set_ylabel('Linear Acceleration a/(m/s^2)')\n",
    "    a[1][0].set_title('(c) Fitting curve', y=-0.3)\n",
    "    a[1][0].legend()\n",
    "\n",
    "\n",
    "    a[1][1].plot(t_itp, fit, color='deeppink', linewidth=0.5, label='Fitting curve')\n",
    "    a[1][1].plot(t_origin, a_origin, linewidth=0.5, color='lightseagreen', label='Original curve')\n",
    "    a[1][1].plot(t_itp, avals, color='lightcoral', label='Envelope')\n",
    "\n",
    "    a[1][1].set_xlabel('time t/s')\n",
    "    a[1][1].set_ylabel('Linear Acceleration a/(m/s^2)')\n",
    "    a[1][1].set_title('(d) Composite figure', y=-0.3)\n",
    "    a[1][1].legend()\n",
    "\n",
    "\n",
    "    plt.subplots_adjust(left=None, bottom=None, right=None, top=None, wspace=0.2, hspace=0.5)\n",
    "    length = [130, 140, 160, 170, 180, 190]\n",
    "    plt.suptitle('Fig.{}.1 Damped vibration of the steel rule (Indirect Fitting). L={}mm'.format(idx+1, length[idx]), y=0.01, fontsize=16)\n",
    "\n",
    "    # Output\n",
    "    plt.savefig(r'Steel_rule_fig_indirect\\fig.{}.1.png'.format(idx+1), bbox_inches = 'tight')\n",
    "    plt.clf()\n",
    "    return (t, beta)\n",
    "\n"
   ]
  },
  {
   "cell_type": "code",
   "execution_count": 283,
   "metadata": {},
   "outputs": [
    {
     "output_type": "display_data",
     "data": {
      "text/plain": "<Figure size 1440x720 with 0 Axes>"
     },
     "metadata": {}
    },
    {
     "output_type": "display_data",
     "data": {
      "text/plain": "<Figure size 1440x720 with 0 Axes>"
     },
     "metadata": {}
    },
    {
     "output_type": "display_data",
     "data": {
      "text/plain": "<Figure size 1440x720 with 0 Axes>"
     },
     "metadata": {}
    },
    {
     "output_type": "display_data",
     "data": {
      "text/plain": "<Figure size 1440x720 with 0 Axes>"
     },
     "metadata": {}
    },
    {
     "output_type": "display_data",
     "data": {
      "text/plain": "<Figure size 1440x720 with 0 Axes>"
     },
     "metadata": {}
    },
    {
     "output_type": "display_data",
     "data": {
      "text/plain": "<Figure size 1440x720 with 0 Axes>"
     },
     "metadata": {}
    }
   ],
   "source": [
    "Tlist_ind = [] \n",
    "Betalist_ind = []\n",
    "for idx in range(len(dfLIST)):\n",
    "    df = dfLIST[idx]\n",
    "    t, beta =Indirectmethod(df, idx)\n",
    "    Tlist_ind.append(t) \n",
    "    Betalist_ind.append(beta)\n"
   ]
  },
  {
   "cell_type": "code",
   "execution_count": 284,
   "metadata": {},
   "outputs": [
    {
     "output_type": "stream",
     "name": "stdout",
     "text": [
      "[0.1263569773312984, 0.13124330139920934, 0.16196049632721551, 0.17493381456717985, 0.19337115087787934, 0.21297310038751258] [0.3187085188730969, 0.27698589852746813, 0.1935851502612191, 0.1824842082428138, 0.1568400685974588, 0.14457378958316675]\n"
     ]
    }
   ],
   "source": [
    "print(Tlist_ind, Betalist_ind)"
   ]
  },
  {
   "cell_type": "code",
   "execution_count": 285,
   "metadata": {},
   "outputs": [
    {
     "output_type": "stream",
     "name": "stdout",
     "text": [
      "               0           1           2           3           4           5\nL     130.000000  140.000000  160.000000  170.000000  180.000000  190.000000\nT       0.126357    0.131243    0.161960    0.174934    0.193371    0.212973\nF       7.914086    7.619436    6.174345    5.716448    5.171402    4.695429\nbeta    0.318709    0.276986    0.193585    0.182484    0.156840    0.144574\n"
     ]
    }
   ],
   "source": [
    "length = np.array([130, 140, 160, 170, 180, 190])\n",
    "ind = pd.DataFrame([length, np.array(Tlist_ind), np.array(Betalist_ind)], index=['L', 'T', 'beta'])\n",
    "ind.loc['F'] = 1/ind.loc['T']\n",
    "ind = ind.reindex(index=(['L', 'T', 'F', 'beta']))\n",
    "print(ind)"
   ]
  },
  {
   "cell_type": "code",
   "execution_count": 286,
   "metadata": {},
   "outputs": [],
   "source": [
    "writer = pd.ExcelWriter('Steel_rule_vibration_indirect.xlsx')\r\n",
    "ind.to_excel(writer)\r\n",
    "writer.save()"
   ]
  },
  {
   "source": [
    "## Direct method"
   ],
   "cell_type": "markdown",
   "metadata": {}
  },
  {
   "cell_type": "code",
   "execution_count": 287,
   "metadata": {},
   "outputs": [],
   "source": [
    "def Directmethod(df, idx):\n",
    "\n",
    "    # Processing\n",
    "    df.drop(df.head(100).index, inplace=True)\n",
    "    df['Time (s)'] = df['Time (s)'] - df.iloc[0,0]\n",
    "    \n",
    "    # Original value\n",
    "    t_origin = np.array(df['Time (s)'])\n",
    "    a_origin = np.array(df['Linear Acceleration z (m/s^2)'])\n",
    "\n",
    "    # Fitting\n",
    "    def a_t(t, A1, bt, omg, A4, A5):\n",
    "        return A1 * (omg**2) * np.exp(-bt*t) * np.cos(omg*t + A4) + A5\n",
    "    param_bounds=([-10, 0, 20, -10, -10], [10, 0.5, 50, 10, 10])\n",
    "    ## key: the max value of the omega. When selecting differnt values(40,50,60), some may success while others may fail.\n",
    "    popt, pcov = curve_fit(a_t, t_origin, a_origin, bounds = param_bounds)\n",
    "    t_dense = np.linspace(t_origin.min(), t_origin.max(), 10000)\n",
    "\n",
    "    avals = a_t(t_dense, popt[0], popt[1], popt[2], popt[3], popt[4])\n",
    "    Omega = popt[2]\n",
    "    beta = popt[1]\n",
    "    t = 2*np.pi/Omega\n",
    "\n",
    "    # Plot\n",
    "    fig, a =  plt.subplots(3,1,figsize=(10, 20))\n",
    "\n",
    "    a[0].plot(t_origin, a_origin, linewidth=0.5, color='lightseagreen', label='Original curve')\n",
    "\n",
    "    a[0].set_xlabel('time t/s')\n",
    "    a[0].set_ylabel('Linear Acceleration a/(m/s^2)')\n",
    "    a[0].set_title('(a) Original curve', y=-0.3)\n",
    "    a[0].legend()\n",
    "\n",
    "\n",
    "    a[1].plot(t_dense, avals, color='deeppink', linewidth=0.5, label='Fitting curve')\n",
    "\n",
    "    a[1].set_xlabel('time t/s')\n",
    "    a[1].set_ylabel('Linear Acceleration a/(m/s^2)')\n",
    "    a[1].set_title('(b) Fitting curve', y=-0.3)\n",
    "    a[1].legend()\n",
    "\n",
    "\n",
    "    a[2].plot(t_dense, avals, color='deeppink', linewidth=0.5, label='Fitting curve')\n",
    "    a[2].plot(t_origin, a_origin, linewidth=0.5, color='lightseagreen', label='Original curve')\n",
    "\n",
    "\n",
    "    a[2].set_xlabel('time t/s')\n",
    "    a[2].set_ylabel('Linear Acceleration a/(m/s^2)')\n",
    "    a[2].set_title('(c) Composite figure', y=-0.3)\n",
    "    a[2].legend()\n",
    "\n",
    "    plt.subplots_adjust(left=None, bottom=None, right=None, top=None, wspace=0.2, hspace=0.5)\n",
    "    length = [130, 140, 160, 170, 180, 190]\n",
    "    plt.suptitle('Fig.{}.2 Damped vibration of the steel rule (Direct Fitting). L={}mm'.format(idx+1, length[idx]), y=0.05, fontsize=16)\n",
    "\n",
    "    # Output\n",
    "    plt.savefig(r'Steel_rule_fig_direct\\fig.{}.2.png'.format(idx+1), bbox_inches = 'tight')\n",
    "    plt.clf()\n",
    "    return (t, beta)\n"
   ]
  },
  {
   "cell_type": "code",
   "execution_count": 288,
   "metadata": {},
   "outputs": [
    {
     "output_type": "display_data",
     "data": {
      "text/plain": "<Figure size 720x1440 with 0 Axes>"
     },
     "metadata": {}
    },
    {
     "output_type": "display_data",
     "data": {
      "text/plain": "<Figure size 720x1440 with 0 Axes>"
     },
     "metadata": {}
    },
    {
     "output_type": "display_data",
     "data": {
      "text/plain": "<Figure size 720x1440 with 0 Axes>"
     },
     "metadata": {}
    },
    {
     "output_type": "display_data",
     "data": {
      "text/plain": "<Figure size 720x1440 with 0 Axes>"
     },
     "metadata": {}
    },
    {
     "output_type": "display_data",
     "data": {
      "text/plain": "<Figure size 720x1440 with 0 Axes>"
     },
     "metadata": {}
    },
    {
     "output_type": "display_data",
     "data": {
      "text/plain": "<Figure size 720x1440 with 0 Axes>"
     },
     "metadata": {}
    }
   ],
   "source": [
    "Tlist_dir = [] \n",
    "Betalist_dir = []\n",
    "for idx in range(len(dfLIST)):\n",
    "    df = dfLIST[idx]\n",
    "    t, beta =Directmethod(df, idx)\n",
    "    Tlist_dir.append(t) \n",
    "    Betalist_dir.append(beta)"
   ]
  },
  {
   "cell_type": "code",
   "execution_count": 289,
   "metadata": {},
   "outputs": [
    {
     "output_type": "stream",
     "name": "stdout",
     "text": [
      "[0.18079502349934165, 0.17580200290091916, 0.1690325199098668, 0.18288349416041613, 0.20140143874198915, 0.21920376009280038] [0.4999999999996496, 0.49999999999999994, 0.17572701086760562, 0.17487261157807074, 0.15111664645368567, 0.14082331137410758]\n"
     ]
    }
   ],
   "source": [
    "print(Tlist_dir, Betalist_dir)\n"
   ]
  },
  {
   "cell_type": "code",
   "execution_count": 290,
   "metadata": {},
   "outputs": [
    {
     "output_type": "stream",
     "name": "stdout",
     "text": [
      "               0           1           2           3           4           5\nL     130.000000  140.000000  160.000000  170.000000  180.000000  190.000000\nT       0.180795    0.175802    0.169033    0.182883    0.201401    0.219204\nF       5.531126    5.688217    5.916021    5.467962    4.965208    4.561966\nbeta    0.500000    0.500000    0.175727    0.174873    0.151117    0.140823\n"
     ]
    }
   ],
   "source": [
    "length = np.array([130, 140, 160, 170, 180, 190])\r\n",
    "dir = pd.DataFrame([length, np.array(Tlist_dir), np.array(Betalist_dir)], index=['L', 'T', 'beta'])\r\n",
    "dir.loc['F'] = 1/dir.loc['T']\r\n",
    "dir = dir.reindex(index=(['L', 'T', 'F', 'beta']))\r\n",
    "print(dir)"
   ]
  },
  {
   "cell_type": "code",
   "execution_count": 291,
   "metadata": {},
   "outputs": [],
   "source": [
    "writer = pd.ExcelWriter('Steel_rule_vibration_direct.xlsx')\n",
    "dir.to_excel(writer)\n",
    "writer.save()"
   ]
  }
 ]
}